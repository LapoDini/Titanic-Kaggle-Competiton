{
 "cells": [
  {
   "cell_type": "markdown",
   "id": "45ae5495",
   "metadata": {
    "papermill": {
     "duration": 0.041626,
     "end_time": "2022-10-03T14:02:58.275776",
     "exception": false,
     "start_time": "2022-10-03T14:02:58.234150",
     "status": "completed"
    },
    "tags": []
   },
   "source": [
    "# Titanic Survivor Predictions\n",
    "\n",
    "From Kaggle Competition, this notebook contains a model to compete in *Titanic - Machine Learning from Disaster*, that can be found here: https://www.kaggle.com/competitions/titanic/overview.\n",
    "\n",
    "## 1. Problem Definition \n",
    "\n",
    "Use machine learning to create a model that predicts which passengers survived the Titanic shipwreck.\n",
    "\n",
    "## 2. Data\n",
    "\n",
    "The data can be downloaded here: https://www.kaggle.com/competitions/titanic/data.\n",
    "\n",
    "The data has been split into two groups:\n",
    "\n",
    "* training set (train.csv)\n",
    "* test set (test.csv)\n",
    "\n",
    "## 3. Evaluation\n",
    "\n",
    "Kaggle doesn't provides thersholds for this competition so the aim is to maximize model's **accuracy**.\n",
    "\n",
    "## 4. Features\n",
    "\n",
    "Data Dictionary:\n",
    "\n",
    "1. survival: Survival\n",
    "    * 0 = No\n",
    "    * 1 = Yes\n",
    "2. pclass: Ticket class\t\n",
    "    * 1 = 1st class\n",
    "    * 2 = 2nd class\n",
    "    * 3 = 3rd class\n",
    "3. sex: Sex\n",
    "4. Age:\tAge in years\n",
    "5. sibsp: Number of siblings / spouses aboard the Titanic\t\n",
    "6. parch: Number of parents / children aboard the Titanic\t\n",
    "7. ticket: Ticket number\t\n",
    "8. fare: Passenger fare\t\n",
    "9. cabin: Cabin number\t\n",
    "10. embarked: Port of Embarkation\n",
    "    * C = Cherbourg\n",
    "    * Q = Queenstown\n",
    "    * S = Southampton"
   ]
  },
  {
   "cell_type": "markdown",
   "id": "78c8cace",
   "metadata": {
    "papermill": {
     "duration": 0.03746,
     "end_time": "2022-10-03T14:02:58.344421",
     "exception": false,
     "start_time": "2022-10-03T14:02:58.306961",
     "status": "completed"
    },
    "tags": []
   },
   "source": [
    "## Exploratory Data Analysis"
   ]
  },
  {
   "cell_type": "code",
   "execution_count": 1,
   "id": "a9db4abc",
   "metadata": {
    "execution": {
     "iopub.execute_input": "2022-10-03T14:02:58.414176Z",
     "iopub.status.busy": "2022-10-03T14:02:58.413567Z",
     "iopub.status.idle": "2022-10-03T14:02:59.802436Z",
     "shell.execute_reply": "2022-10-03T14:02:59.800895Z"
    },
    "papermill": {
     "duration": 1.432801,
     "end_time": "2022-10-03T14:02:59.805723",
     "exception": false,
     "start_time": "2022-10-03T14:02:58.372922",
     "status": "completed"
    },
    "tags": []
   },
   "outputs": [],
   "source": [
    "import pandas as pd\n",
    "import numpy as np\n",
    "import matplotlib.pyplot as plt\n",
    "import seaborn as sns\n",
    "\n",
    "# Import the DataFrame\n",
    "df_train  = pd.read_csv('../input/titanic/train.csv')\n",
    "df_test   = pd.read_csv('../input/titanic/test.csv')"
   ]
  },
  {
   "cell_type": "code",
   "execution_count": 2,
   "id": "52a1131f",
   "metadata": {
    "execution": {
     "iopub.execute_input": "2022-10-03T14:02:59.828836Z",
     "iopub.status.busy": "2022-10-03T14:02:59.827682Z",
     "iopub.status.idle": "2022-10-03T14:02:59.844473Z",
     "shell.execute_reply": "2022-10-03T14:02:59.843045Z"
    },
    "papermill": {
     "duration": 0.03011,
     "end_time": "2022-10-03T14:02:59.847108",
     "exception": false,
     "start_time": "2022-10-03T14:02:59.816998",
     "status": "completed"
    },
    "scrolled": true,
    "tags": []
   },
   "outputs": [
    {
     "data": {
      "text/plain": [
       "PassengerId      0\n",
       "Survived         0\n",
       "Pclass           0\n",
       "Name             0\n",
       "Sex              0\n",
       "Age            177\n",
       "SibSp            0\n",
       "Parch            0\n",
       "Ticket           0\n",
       "Fare             0\n",
       "Cabin          687\n",
       "Embarked         2\n",
       "dtype: int64"
      ]
     },
     "execution_count": 2,
     "metadata": {},
     "output_type": "execute_result"
    }
   ],
   "source": [
    "# Checking the train data head and infos\n",
    "df_train.isnull().sum()"
   ]
  },
  {
   "cell_type": "code",
   "execution_count": 3,
   "id": "7834ac46",
   "metadata": {
    "execution": {
     "iopub.execute_input": "2022-10-03T14:02:59.868518Z",
     "iopub.status.busy": "2022-10-03T14:02:59.868092Z",
     "iopub.status.idle": "2022-10-03T14:02:59.881793Z",
     "shell.execute_reply": "2022-10-03T14:02:59.880496Z"
    },
    "papermill": {
     "duration": 0.027366,
     "end_time": "2022-10-03T14:02:59.884514",
     "exception": false,
     "start_time": "2022-10-03T14:02:59.857148",
     "status": "completed"
    },
    "tags": []
   },
   "outputs": [
    {
     "data": {
      "text/plain": [
       "PassengerId      0\n",
       "Pclass           0\n",
       "Name             0\n",
       "Sex              0\n",
       "Age             86\n",
       "SibSp            0\n",
       "Parch            0\n",
       "Ticket           0\n",
       "Fare             1\n",
       "Cabin          327\n",
       "Embarked         0\n",
       "dtype: int64"
      ]
     },
     "execution_count": 3,
     "metadata": {},
     "output_type": "execute_result"
    }
   ],
   "source": [
    "# Check for missing values in test set\n",
    "df_test.isnull().sum()"
   ]
  },
  {
   "cell_type": "markdown",
   "id": "901dcb3a",
   "metadata": {
    "papermill": {
     "duration": 0.00939,
     "end_time": "2022-10-03T14:02:59.903792",
     "exception": false,
     "start_time": "2022-10-03T14:02:59.894402",
     "status": "completed"
    },
    "tags": []
   },
   "source": [
    "Since the Cabin column has the 77% of missing data is convinient to drop it.\n",
    "\n",
    "Another columns to drop are: \n",
    "* Name\n",
    "* Ticket number\n",
    "\n",
    "since they are probably not correlated with our predictions."
   ]
  },
  {
   "cell_type": "code",
   "execution_count": 4,
   "id": "6316ace8",
   "metadata": {
    "execution": {
     "iopub.execute_input": "2022-10-03T14:02:59.925856Z",
     "iopub.status.busy": "2022-10-03T14:02:59.924715Z",
     "iopub.status.idle": "2022-10-03T14:02:59.938782Z",
     "shell.execute_reply": "2022-10-03T14:02:59.937374Z"
    },
    "papermill": {
     "duration": 0.028298,
     "end_time": "2022-10-03T14:02:59.941726",
     "exception": false,
     "start_time": "2022-10-03T14:02:59.913428",
     "status": "completed"
    },
    "tags": []
   },
   "outputs": [],
   "source": [
    "train = df_train.drop([\"Cabin\", \"Name\", \"Ticket\"], axis = 1)\n",
    "test = df_test.drop([\"Cabin\", \"Name\", \"Ticket\"], axis = 1)"
   ]
  },
  {
   "cell_type": "code",
   "execution_count": 5,
   "id": "0f4b3cf6",
   "metadata": {
    "execution": {
     "iopub.execute_input": "2022-10-03T14:02:59.962712Z",
     "iopub.status.busy": "2022-10-03T14:02:59.962289Z",
     "iopub.status.idle": "2022-10-03T14:02:59.991314Z",
     "shell.execute_reply": "2022-10-03T14:02:59.989881Z"
    },
    "papermill": {
     "duration": 0.042784,
     "end_time": "2022-10-03T14:02:59.994300",
     "exception": false,
     "start_time": "2022-10-03T14:02:59.951516",
     "status": "completed"
    },
    "tags": []
   },
   "outputs": [
    {
     "data": {
      "text/html": [
       "<div>\n",
       "<style scoped>\n",
       "    .dataframe tbody tr th:only-of-type {\n",
       "        vertical-align: middle;\n",
       "    }\n",
       "\n",
       "    .dataframe tbody tr th {\n",
       "        vertical-align: top;\n",
       "    }\n",
       "\n",
       "    .dataframe thead th {\n",
       "        text-align: right;\n",
       "    }\n",
       "</style>\n",
       "<table border=\"1\" class=\"dataframe\">\n",
       "  <thead>\n",
       "    <tr style=\"text-align: right;\">\n",
       "      <th></th>\n",
       "      <th>PassengerId</th>\n",
       "      <th>Survived</th>\n",
       "      <th>Pclass</th>\n",
       "      <th>Sex</th>\n",
       "      <th>Age</th>\n",
       "      <th>SibSp</th>\n",
       "      <th>Parch</th>\n",
       "      <th>Fare</th>\n",
       "      <th>Embarked</th>\n",
       "    </tr>\n",
       "  </thead>\n",
       "  <tbody>\n",
       "    <tr>\n",
       "      <th>0</th>\n",
       "      <td>1</td>\n",
       "      <td>0</td>\n",
       "      <td>3</td>\n",
       "      <td>male</td>\n",
       "      <td>22.0</td>\n",
       "      <td>1</td>\n",
       "      <td>0</td>\n",
       "      <td>7.2500</td>\n",
       "      <td>S</td>\n",
       "    </tr>\n",
       "    <tr>\n",
       "      <th>1</th>\n",
       "      <td>2</td>\n",
       "      <td>1</td>\n",
       "      <td>1</td>\n",
       "      <td>female</td>\n",
       "      <td>38.0</td>\n",
       "      <td>1</td>\n",
       "      <td>0</td>\n",
       "      <td>71.2833</td>\n",
       "      <td>C</td>\n",
       "    </tr>\n",
       "    <tr>\n",
       "      <th>2</th>\n",
       "      <td>3</td>\n",
       "      <td>1</td>\n",
       "      <td>3</td>\n",
       "      <td>female</td>\n",
       "      <td>26.0</td>\n",
       "      <td>0</td>\n",
       "      <td>0</td>\n",
       "      <td>7.9250</td>\n",
       "      <td>S</td>\n",
       "    </tr>\n",
       "    <tr>\n",
       "      <th>3</th>\n",
       "      <td>4</td>\n",
       "      <td>1</td>\n",
       "      <td>1</td>\n",
       "      <td>female</td>\n",
       "      <td>35.0</td>\n",
       "      <td>1</td>\n",
       "      <td>0</td>\n",
       "      <td>53.1000</td>\n",
       "      <td>S</td>\n",
       "    </tr>\n",
       "    <tr>\n",
       "      <th>4</th>\n",
       "      <td>5</td>\n",
       "      <td>0</td>\n",
       "      <td>3</td>\n",
       "      <td>male</td>\n",
       "      <td>35.0</td>\n",
       "      <td>0</td>\n",
       "      <td>0</td>\n",
       "      <td>8.0500</td>\n",
       "      <td>S</td>\n",
       "    </tr>\n",
       "    <tr>\n",
       "      <th>...</th>\n",
       "      <td>...</td>\n",
       "      <td>...</td>\n",
       "      <td>...</td>\n",
       "      <td>...</td>\n",
       "      <td>...</td>\n",
       "      <td>...</td>\n",
       "      <td>...</td>\n",
       "      <td>...</td>\n",
       "      <td>...</td>\n",
       "    </tr>\n",
       "    <tr>\n",
       "      <th>886</th>\n",
       "      <td>887</td>\n",
       "      <td>0</td>\n",
       "      <td>2</td>\n",
       "      <td>male</td>\n",
       "      <td>27.0</td>\n",
       "      <td>0</td>\n",
       "      <td>0</td>\n",
       "      <td>13.0000</td>\n",
       "      <td>S</td>\n",
       "    </tr>\n",
       "    <tr>\n",
       "      <th>887</th>\n",
       "      <td>888</td>\n",
       "      <td>1</td>\n",
       "      <td>1</td>\n",
       "      <td>female</td>\n",
       "      <td>19.0</td>\n",
       "      <td>0</td>\n",
       "      <td>0</td>\n",
       "      <td>30.0000</td>\n",
       "      <td>S</td>\n",
       "    </tr>\n",
       "    <tr>\n",
       "      <th>888</th>\n",
       "      <td>889</td>\n",
       "      <td>0</td>\n",
       "      <td>3</td>\n",
       "      <td>female</td>\n",
       "      <td>NaN</td>\n",
       "      <td>1</td>\n",
       "      <td>2</td>\n",
       "      <td>23.4500</td>\n",
       "      <td>S</td>\n",
       "    </tr>\n",
       "    <tr>\n",
       "      <th>889</th>\n",
       "      <td>890</td>\n",
       "      <td>1</td>\n",
       "      <td>1</td>\n",
       "      <td>male</td>\n",
       "      <td>26.0</td>\n",
       "      <td>0</td>\n",
       "      <td>0</td>\n",
       "      <td>30.0000</td>\n",
       "      <td>C</td>\n",
       "    </tr>\n",
       "    <tr>\n",
       "      <th>890</th>\n",
       "      <td>891</td>\n",
       "      <td>0</td>\n",
       "      <td>3</td>\n",
       "      <td>male</td>\n",
       "      <td>32.0</td>\n",
       "      <td>0</td>\n",
       "      <td>0</td>\n",
       "      <td>7.7500</td>\n",
       "      <td>Q</td>\n",
       "    </tr>\n",
       "  </tbody>\n",
       "</table>\n",
       "<p>891 rows × 9 columns</p>\n",
       "</div>"
      ],
      "text/plain": [
       "     PassengerId  Survived  Pclass     Sex   Age  SibSp  Parch     Fare  \\\n",
       "0              1         0       3    male  22.0      1      0   7.2500   \n",
       "1              2         1       1  female  38.0      1      0  71.2833   \n",
       "2              3         1       3  female  26.0      0      0   7.9250   \n",
       "3              4         1       1  female  35.0      1      0  53.1000   \n",
       "4              5         0       3    male  35.0      0      0   8.0500   \n",
       "..           ...       ...     ...     ...   ...    ...    ...      ...   \n",
       "886          887         0       2    male  27.0      0      0  13.0000   \n",
       "887          888         1       1  female  19.0      0      0  30.0000   \n",
       "888          889         0       3  female   NaN      1      2  23.4500   \n",
       "889          890         1       1    male  26.0      0      0  30.0000   \n",
       "890          891         0       3    male  32.0      0      0   7.7500   \n",
       "\n",
       "    Embarked  \n",
       "0          S  \n",
       "1          C  \n",
       "2          S  \n",
       "3          S  \n",
       "4          S  \n",
       "..       ...  \n",
       "886        S  \n",
       "887        S  \n",
       "888        S  \n",
       "889        C  \n",
       "890        Q  \n",
       "\n",
       "[891 rows x 9 columns]"
      ]
     },
     "execution_count": 5,
     "metadata": {},
     "output_type": "execute_result"
    }
   ],
   "source": [
    "train"
   ]
  },
  {
   "cell_type": "markdown",
   "id": "ae57fcb8",
   "metadata": {
    "papermill": {
     "duration": 0.01702,
     "end_time": "2022-10-03T14:03:00.021840",
     "exception": false,
     "start_time": "2022-10-03T14:03:00.004820",
     "status": "completed"
    },
    "tags": []
   },
   "source": [
    "Now proced to EDA using only training set.\n",
    "\n",
    "Check the distribution of `Pclass` vewing wich of this classes has more possibility to survive.\n",
    "\n",
    "As we can see, more of the survivros are in the 1st class."
   ]
  },
  {
   "cell_type": "code",
   "execution_count": 6,
   "id": "647d8d53",
   "metadata": {
    "execution": {
     "iopub.execute_input": "2022-10-03T14:03:00.045757Z",
     "iopub.status.busy": "2022-10-03T14:03:00.045301Z",
     "iopub.status.idle": "2022-10-03T14:03:00.364605Z",
     "shell.execute_reply": "2022-10-03T14:03:00.363196Z"
    },
    "papermill": {
     "duration": 0.33425,
     "end_time": "2022-10-03T14:03:00.367437",
     "exception": false,
     "start_time": "2022-10-03T14:03:00.033187",
     "status": "completed"
    },
    "tags": []
   },
   "outputs": [
    {
     "data": {
      "text/plain": [
       "Text(0, 0.5, 'Passenger per Class')"
      ]
     },
     "execution_count": 6,
     "metadata": {},
     "output_type": "execute_result"
    },
    {
     "data": {
      "image/png": "[encoded data removed]",
      "text/plain": [
       "<Figure size 432x288 with 1 Axes>"
      ]
     },
     "metadata": {
      "needs_background": "light"
     },
     "output_type": "display_data"
    }
   ],
   "source": [
    "plt.hist(train[\"Pclass\"])\n",
    "plt.title(\"Passenger per Class\")\n",
    "plt.xlabel(\"Class\")\n",
    "plt.ylabel(\"Passenger per Class\")"
   ]
  },
  {
   "cell_type": "code",
   "execution_count": 7,
   "id": "443d6297",
   "metadata": {
    "execution": {
     "iopub.execute_input": "2022-10-03T14:03:00.390473Z",
     "iopub.status.busy": "2022-10-03T14:03:00.390083Z",
     "iopub.status.idle": "2022-10-03T14:03:00.751683Z",
     "shell.execute_reply": "2022-10-03T14:03:00.750376Z"
    },
    "papermill": {
     "duration": 0.376246,
     "end_time": "2022-10-03T14:03:00.754455",
     "exception": false,
     "start_time": "2022-10-03T14:03:00.378209",
     "status": "completed"
    },
    "tags": []
   },
   "outputs": [
    {
     "data": {
      "text/plain": [
       "<matplotlib.legend.Legend at 0x7f31e67a3110>"
      ]
     },
     "execution_count": 7,
     "metadata": {},
     "output_type": "execute_result"
    },
    {
     "data": {
      "image/png": "[encoded data removed]",
      "text/plain": [
       "<Figure size 432x288 with 1 Axes>"
      ]
     },
     "metadata": {
      "needs_background": "light"
     },
     "output_type": "display_data"
    }
   ],
   "source": [
    "survivors = train[\"Pclass\"][train.Survived == 1]\n",
    "nosurvivors = train[\"Pclass\"][train.Survived == 0]\n",
    "\n",
    "plt.hist([survivors, nosurvivors], label=[\"Survivor\", \"No Survivor\"], color = [\"salmon\", \"lightblue\"]);\n",
    "plt.xlabel(\"Class\")\n",
    "plt.ylabel(\"N. of Passengers\")\n",
    "plt.title(\"Survivors vs. No-Survivors per Class\")\n",
    "plt.legend([\"Survivors\", \"No Survivors\"])\n",
    "             \n",
    "                        \n"
   ]
  },
  {
   "cell_type": "markdown",
   "id": "88f2a2f5",
   "metadata": {
    "papermill": {
     "duration": 0.010623,
     "end_time": "2022-10-03T14:03:00.776526",
     "exception": false,
     "start_time": "2022-10-03T14:03:00.765903",
     "status": "completed"
    },
    "tags": []
   },
   "source": [
    "### Ditribution of ages\n",
    "\n",
    "Try to visualize the distribution of passengers' age."
   ]
  },
  {
   "cell_type": "code",
   "execution_count": 8,
   "id": "a04f4014",
   "metadata": {
    "execution": {
     "iopub.execute_input": "2022-10-03T14:03:00.800156Z",
     "iopub.status.busy": "2022-10-03T14:03:00.799771Z",
     "iopub.status.idle": "2022-10-03T14:03:01.093672Z",
     "shell.execute_reply": "2022-10-03T14:03:01.092393Z"
    },
    "papermill": {
     "duration": 0.309146,
     "end_time": "2022-10-03T14:03:01.096789",
     "exception": false,
     "start_time": "2022-10-03T14:03:00.787643",
     "status": "completed"
    },
    "tags": []
   },
   "outputs": [
    {
     "data": {
      "image/png": "[encoded data removed]",
      "text/plain": [
       "<Figure size 432x288 with 1 Axes>"
      ]
     },
     "metadata": {
      "needs_background": "light"
     },
     "output_type": "display_data"
    }
   ],
   "source": [
    "train.Age.hist();"
   ]
  },
  {
   "cell_type": "markdown",
   "id": "fc0047cf",
   "metadata": {
    "papermill": {
     "duration": 0.01076,
     "end_time": "2022-10-03T14:03:01.119057",
     "exception": false,
     "start_time": "2022-10-03T14:03:01.108297",
     "status": "completed"
    },
    "tags": []
   },
   "source": [
    "### Fare vs Age\n",
    "\n",
    "Let's try to visualize the correlation between `Age` and `Fare` with a scatter plot."
   ]
  },
  {
   "cell_type": "code",
   "execution_count": 9,
   "id": "a68841b3",
   "metadata": {
    "execution": {
     "iopub.execute_input": "2022-10-03T14:03:01.142279Z",
     "iopub.status.busy": "2022-10-03T14:03:01.141924Z",
     "iopub.status.idle": "2022-10-03T14:03:01.494813Z",
     "shell.execute_reply": "2022-10-03T14:03:01.493393Z"
    },
    "papermill": {
     "duration": 0.367771,
     "end_time": "2022-10-03T14:03:01.497623",
     "exception": false,
     "start_time": "2022-10-03T14:03:01.129852",
     "status": "completed"
    },
    "tags": []
   },
   "outputs": [
    {
     "data": {
      "image/png": "[encoded data removed]",
      "text/plain": [
       "<Figure size 432x288 with 1 Axes>"
      ]
     },
     "metadata": {
      "needs_background": "light"
     },
     "output_type": "display_data"
    }
   ],
   "source": [
    "plt.scatter(train.Age[train.Survived == 1],\n",
    "            train.Fare[train.Survived == 1],\n",
    "            c = \"Salmon\")\n",
    "\n",
    "plt.scatter(train.Age[train.Survived == 0],\n",
    "            train.Fare[train.Survived == 0],\n",
    "            c = \"lightBlue\")\n",
    "\n",
    "plt.xlabel(\"Age\")\n",
    "plt.ylabel(\"Fare\")\n",
    "plt.legend([\"Survived\", \"Not Survived\"]);"
   ]
  },
  {
   "cell_type": "markdown",
   "id": "1c4a7838",
   "metadata": {
    "papermill": {
     "duration": 0.011622,
     "end_time": "2022-10-03T14:03:01.520940",
     "exception": false,
     "start_time": "2022-10-03T14:03:01.509318",
     "status": "completed"
    },
    "tags": []
   },
   "source": [
    "As it is showed by the plot, the more was the fare the more was the probability to survive."
   ]
  },
  {
   "cell_type": "markdown",
   "id": "06ffa3dc",
   "metadata": {
    "papermill": {
     "duration": 0.011084,
     "end_time": "2022-10-03T14:03:01.543420",
     "exception": false,
     "start_time": "2022-10-03T14:03:01.532336",
     "status": "completed"
    },
    "tags": []
   },
   "source": [
    "### Correlation matrix\n",
    "\n",
    "Using statistical tecnique to see wich features contribute mostly to the target. \n",
    "\n",
    "Correlation matrix show the correlation between variables. "
   ]
  },
  {
   "cell_type": "code",
   "execution_count": 10,
   "id": "b7be781d",
   "metadata": {
    "execution": {
     "iopub.execute_input": "2022-10-03T14:03:01.568585Z",
     "iopub.status.busy": "2022-10-03T14:03:01.567424Z",
     "iopub.status.idle": "2022-10-03T14:03:01.999800Z",
     "shell.execute_reply": "2022-10-03T14:03:01.998416Z"
    },
    "papermill": {
     "duration": 0.447847,
     "end_time": "2022-10-03T14:03:02.002521",
     "exception": false,
     "start_time": "2022-10-03T14:03:01.554674",
     "status": "completed"
    },
    "tags": []
   },
   "outputs": [
    {
     "data": {
      "text/plain": [
       "<AxesSubplot:>"
      ]
     },
     "execution_count": 10,
     "metadata": {},
     "output_type": "execute_result"
    },
    {
     "data": {
      "image/png": "[encoded data removed]",
      "text/plain": [
       "<Figure size 432x288 with 2 Axes>"
      ]
     },
     "metadata": {
      "needs_background": "light"
     },
     "output_type": "display_data"
    }
   ],
   "source": [
    "# Creating and visualizing a correlation matrix\n",
    "corr = train.corr()\n",
    "\n",
    "fig, ax = plt.subplots()\n",
    "cmap = sns.diverging_palette(210, 30, as_cmap = True)\n",
    "mask = np.triu(np.ones_like(corr, dtype = bool))\n",
    "sns.heatmap(corr, \n",
    "            annot = True,\n",
    "            cmap = cmap,\n",
    "            mask = mask)"
   ]
  },
  {
   "cell_type": "markdown",
   "id": "8bd160bc",
   "metadata": {
    "papermill": {
     "duration": 0.01225,
     "end_time": "2022-10-03T14:03:02.028183",
     "exception": false,
     "start_time": "2022-10-03T14:03:02.015933",
     "status": "completed"
    },
    "tags": []
   },
   "source": [
    "It seemes that `Fare` and `Pclass` are the features that contribute to the target `Survived`."
   ]
  },
  {
   "cell_type": "markdown",
   "id": "e471647f",
   "metadata": {
    "papermill": {
     "duration": 0.011795,
     "end_time": "2022-10-03T14:03:02.052538",
     "exception": false,
     "start_time": "2022-10-03T14:03:02.040743",
     "status": "completed"
    },
    "tags": []
   },
   "source": []
  },
  {
   "cell_type": "markdown",
   "id": "a4d8ca45",
   "metadata": {
    "papermill": {
     "duration": 0.011683,
     "end_time": "2022-10-03T14:03:02.076008",
     "exception": false,
     "start_time": "2022-10-03T14:03:02.064325",
     "status": "completed"
    },
    "tags": []
   },
   "source": [
    "## Feature Engineering\n",
    "\n",
    "In this section we look to the features, in particular we will check if there are missing data or categorical variables.\n",
    "\n",
    "If we have missing data we will fill that, and we will encode categorical variables."
   ]
  },
  {
   "cell_type": "markdown",
   "id": "2b6afa7c",
   "metadata": {
    "papermill": {
     "duration": 0.011632,
     "end_time": "2022-10-03T14:03:02.099460",
     "exception": false,
     "start_time": "2022-10-03T14:03:02.087828",
     "status": "completed"
    },
    "tags": []
   },
   "source": [
    "We start by checking test and train infos to find features with missing values and categorical variables."
   ]
  },
  {
   "cell_type": "markdown",
   "id": "e0b6d25d",
   "metadata": {
    "papermill": {
     "duration": 0.011577,
     "end_time": "2022-10-03T14:03:02.122754",
     "exception": false,
     "start_time": "2022-10-03T14:03:02.111177",
     "status": "completed"
    },
    "tags": []
   },
   "source": [
    "As we can see, we have some missing values in the two datasets and we have also some categorical variables.\n",
    "\n",
    "Features with missing values are:\n",
    "1. Train set:\n",
    "    * `Age`\n",
    "    * `Embarked`\n",
    "2. Test set:\n",
    "    * `Age`\n",
    "    * `Fare`\n",
    "\n",
    "Features with categorical variables (for both test and train sets) are:\n",
    "* `Sex`\n",
    "* `Embarked`"
   ]
  },
  {
   "cell_type": "markdown",
   "id": "011d3b5e",
   "metadata": {
    "papermill": {
     "duration": 0.011697,
     "end_time": "2022-10-03T14:03:02.146298",
     "exception": false,
     "start_time": "2022-10-03T14:03:02.134601",
     "status": "completed"
    },
    "tags": []
   },
   "source": [
    "### Turn non numerical variables into Pandas Categories\n",
    "We choose this type of approach because this are categorical variables so encoding this way may be more accurate (ex. missing values in category are coded asv -1), without using sklearn tools that may be provide to  data leak."
   ]
  },
  {
   "cell_type": "code",
   "execution_count": 11,
   "id": "de7f66d7",
   "metadata": {
    "execution": {
     "iopub.execute_input": "2022-10-03T14:03:02.171865Z",
     "iopub.status.busy": "2022-10-03T14:03:02.171442Z",
     "iopub.status.idle": "2022-10-03T14:03:02.198226Z",
     "shell.execute_reply": "2022-10-03T14:03:02.196415Z"
    },
    "papermill": {
     "duration": 0.044551,
     "end_time": "2022-10-03T14:03:02.202587",
     "exception": false,
     "start_time": "2022-10-03T14:03:02.158036",
     "status": "completed"
    },
    "tags": []
   },
   "outputs": [
    {
     "name": "stdout",
     "output_type": "stream",
     "text": [
      "<class 'pandas.core.frame.DataFrame'>\n",
      "RangeIndex: 891 entries, 0 to 890\n",
      "Data columns (total 9 columns):\n",
      " #   Column       Non-Null Count  Dtype   \n",
      "---  ------       --------------  -----   \n",
      " 0   PassengerId  891 non-null    int64   \n",
      " 1   Survived     891 non-null    int64   \n",
      " 2   Pclass       891 non-null    int64   \n",
      " 3   Sex          891 non-null    category\n",
      " 4   Age          714 non-null    float64 \n",
      " 5   SibSp        891 non-null    int64   \n",
      " 6   Parch        891 non-null    int64   \n",
      " 7   Fare         891 non-null    float64 \n",
      " 8   Embarked     889 non-null    category\n",
      "dtypes: category(2), float64(2), int64(5)\n",
      "memory usage: 50.8 KB\n"
     ]
    }
   ],
   "source": [
    "for label, content in train.items():\n",
    "    if pd.api.types.is_string_dtype(content):\n",
    "        train[label] = content.astype(\"category\").cat.as_ordered()\n",
    "        \n",
    "train.info()"
   ]
  },
  {
   "cell_type": "markdown",
   "id": "b10c5dd2",
   "metadata": {
    "execution": {
     "iopub.execute_input": "2022-09-19T09:08:54.250720Z",
     "iopub.status.busy": "2022-09-19T09:08:54.250261Z",
     "iopub.status.idle": "2022-09-19T09:08:54.271418Z",
     "shell.execute_reply": "2022-09-19T09:08:54.268966Z",
     "shell.execute_reply.started": "2022-09-19T09:08:54.250689Z"
    },
    "papermill": {
     "duration": 0.011734,
     "end_time": "2022-10-03T14:03:02.226816",
     "exception": false,
     "start_time": "2022-10-03T14:03:02.215082",
     "status": "completed"
    },
    "tags": []
   },
   "source": [
    "## Filling missing values\n",
    "\n",
    "**Filling numerical values**\n",
    "\n",
    "Now we want to fill missing values, but adding some features that give to the machine additional infos, in particular if a value is imputed or not."
   ]
  },
  {
   "cell_type": "code",
   "execution_count": 12,
   "id": "940a0a3a",
   "metadata": {
    "execution": {
     "iopub.execute_input": "2022-10-03T14:03:02.252260Z",
     "iopub.status.busy": "2022-10-03T14:03:02.251883Z",
     "iopub.status.idle": "2022-10-03T14:03:02.274740Z",
     "shell.execute_reply": "2022-10-03T14:03:02.272730Z"
    },
    "papermill": {
     "duration": 0.039921,
     "end_time": "2022-10-03T14:03:02.278662",
     "exception": false,
     "start_time": "2022-10-03T14:03:02.238741",
     "status": "completed"
    },
    "tags": []
   },
   "outputs": [
    {
     "name": "stdout",
     "output_type": "stream",
     "text": [
      "<class 'pandas.core.frame.DataFrame'>\n",
      "RangeIndex: 891 entries, 0 to 890\n",
      "Data columns (total 10 columns):\n",
      " #   Column          Non-Null Count  Dtype   \n",
      "---  ------          --------------  -----   \n",
      " 0   PassengerId     891 non-null    int64   \n",
      " 1   Survived        891 non-null    int64   \n",
      " 2   Pclass          891 non-null    int64   \n",
      " 3   Sex             891 non-null    category\n",
      " 4   Age             891 non-null    float64 \n",
      " 5   SibSp           891 non-null    int64   \n",
      " 6   Parch           891 non-null    int64   \n",
      " 7   Fare            891 non-null    float64 \n",
      " 8   Embarked        889 non-null    category\n",
      " 9   Age_is_missing  891 non-null    bool    \n",
      "dtypes: bool(1), category(2), float64(2), int64(5)\n",
      "memory usage: 51.7 KB\n"
     ]
    }
   ],
   "source": [
    "for label, content in train.items():\n",
    "    if pd.api.types.is_numeric_dtype(content):\n",
    "        if pd.isnull(content).sum():\n",
    "            # Add a column that says if the value is missing or not.\n",
    "            train[label + \"_is_missing\"] = pd.isnull(content)\n",
    "            # Fill numerical values with the median\n",
    "            train[label] = content.fillna(content.median())\n",
    "\n",
    "train.info()"
   ]
  },
  {
   "cell_type": "markdown",
   "id": "9f3d8572",
   "metadata": {
    "execution": {
     "iopub.execute_input": "2022-09-19T09:19:56.175093Z",
     "iopub.status.busy": "2022-09-19T09:19:56.174651Z",
     "iopub.status.idle": "2022-09-19T09:19:56.184241Z",
     "shell.execute_reply": "2022-09-19T09:19:56.182466Z",
     "shell.execute_reply.started": "2022-09-19T09:19:56.175062Z"
    },
    "papermill": {
     "duration": 0.011808,
     "end_time": "2022-10-03T14:03:02.303480",
     "exception": false,
     "start_time": "2022-10-03T14:03:02.291672",
     "status": "completed"
    },
    "tags": []
   },
   "source": [
    "**Filling and converting categorical variables**"
   ]
  },
  {
   "cell_type": "code",
   "execution_count": 13,
   "id": "c0082e0c",
   "metadata": {
    "execution": {
     "iopub.execute_input": "2022-10-03T14:03:02.329188Z",
     "iopub.status.busy": "2022-10-03T14:03:02.328806Z",
     "iopub.status.idle": "2022-10-03T14:03:02.348580Z",
     "shell.execute_reply": "2022-10-03T14:03:02.346634Z"
    },
    "papermill": {
     "duration": 0.03693,
     "end_time": "2022-10-03T14:03:02.352391",
     "exception": false,
     "start_time": "2022-10-03T14:03:02.315461",
     "status": "completed"
    },
    "tags": []
   },
   "outputs": [
    {
     "name": "stdout",
     "output_type": "stream",
     "text": [
      "<class 'pandas.core.frame.DataFrame'>\n",
      "RangeIndex: 891 entries, 0 to 890\n",
      "Data columns (total 12 columns):\n",
      " #   Column               Non-Null Count  Dtype  \n",
      "---  ------               --------------  -----  \n",
      " 0   PassengerId          891 non-null    int64  \n",
      " 1   Survived             891 non-null    int64  \n",
      " 2   Pclass               891 non-null    int64  \n",
      " 3   Sex                  891 non-null    int8   \n",
      " 4   Age                  891 non-null    float64\n",
      " 5   SibSp                891 non-null    int64  \n",
      " 6   Parch                891 non-null    int64  \n",
      " 7   Fare                 891 non-null    float64\n",
      " 8   Embarked             891 non-null    int8   \n",
      " 9   Age_is_missing       891 non-null    bool   \n",
      " 10  Sex_is_missing       891 non-null    bool   \n",
      " 11  Embarked_is_missing  891 non-null    bool   \n",
      "dtypes: bool(3), float64(2), int64(5), int8(2)\n",
      "memory usage: 53.2 KB\n"
     ]
    }
   ],
   "source": [
    "for label, content in train.items():\n",
    "    if not pd.api.types.is_numeric_dtype(content):\n",
    "        # Add a column if values is missing\n",
    "        train[label + \"_is_missing\"] = pd.isnull(content)\n",
    "        # Change the name of the category with its own code, adding 1\n",
    "        train[label] = pd.Categorical(content).codes + 1\n",
    "\n",
    "train.info()"
   ]
  },
  {
   "cell_type": "markdown",
   "id": "128997a2",
   "metadata": {
    "papermill": {
     "duration": 0.011868,
     "end_time": "2022-10-03T14:03:02.377143",
     "exception": false,
     "start_time": "2022-10-03T14:03:02.365275",
     "status": "completed"
    },
    "tags": []
   },
   "source": [
    "Now our train data set is filled and all numeric. We can move on choosing a model and train it."
   ]
  },
  {
   "cell_type": "markdown",
   "id": "09b71b85",
   "metadata": {
    "papermill": {
     "duration": 0.012073,
     "end_time": "2022-10-03T14:03:02.401396",
     "exception": false,
     "start_time": "2022-10-03T14:03:02.389323",
     "status": "completed"
    },
    "tags": []
   },
   "source": [
    "## Modelling\n",
    "\n",
    "Kaggle doesn't provide a validation set so first of all we split our training data in a validation and a train set, to validate our model.\n",
    "\n",
    "We'll tray to use these model:\n",
    "* `LogisticRegression`\n",
    "* `DecisionTree`\n",
    "* `RandomForestClassifier`\n",
    "* `KNeighbours`\n",
    "\n",
    "First we choose our X (features) and y (labels)."
   ]
  },
  {
   "cell_type": "code",
   "execution_count": 14,
   "id": "4521c20e",
   "metadata": {
    "execution": {
     "iopub.execute_input": "2022-10-03T14:03:02.427172Z",
     "iopub.status.busy": "2022-10-03T14:03:02.426746Z",
     "iopub.status.idle": "2022-10-03T14:03:02.435123Z",
     "shell.execute_reply": "2022-10-03T14:03:02.433861Z"
    },
    "papermill": {
     "duration": 0.024527,
     "end_time": "2022-10-03T14:03:02.437929",
     "exception": false,
     "start_time": "2022-10-03T14:03:02.413402",
     "status": "completed"
    },
    "tags": []
   },
   "outputs": [],
   "source": [
    "# Creating X and y\n",
    "X = train.drop(\"Survived\", axis = 1)\n",
    "y = train[\"Survived\"]\n"
   ]
  },
  {
   "cell_type": "code",
   "execution_count": 15,
   "id": "6c8d82d4",
   "metadata": {
    "execution": {
     "iopub.execute_input": "2022-10-03T14:03:02.464376Z",
     "iopub.status.busy": "2022-10-03T14:03:02.464000Z",
     "iopub.status.idle": "2022-10-03T14:03:02.660413Z",
     "shell.execute_reply": "2022-10-03T14:03:02.659119Z"
    },
    "papermill": {
     "duration": 0.213626,
     "end_time": "2022-10-03T14:03:02.663587",
     "exception": false,
     "start_time": "2022-10-03T14:03:02.449961",
     "status": "completed"
    },
    "tags": []
   },
   "outputs": [],
   "source": [
    "# Setup Random Seed\n",
    "np.random.seed(42)\n",
    "\n",
    "# Split the data in training and validation set\n",
    "from sklearn.model_selection import train_test_split\n",
    "X_train, X_val, y_train, y_val = train_test_split(X, y, test_size = 0.2)\n",
    "\n",
    "\n",
    "# Scaling the features to avoid faliure in models.\n",
    "from sklearn.preprocessing import StandardScaler\n",
    "scaler = StandardScaler()\n",
    "X_train_std = scaler.fit_transform(X_train)\n",
    "X_val_std = scaler.transform(X_val)"
   ]
  },
  {
   "cell_type": "code",
   "execution_count": 16,
   "id": "39548c0f",
   "metadata": {
    "execution": {
     "iopub.execute_input": "2022-10-03T14:03:02.690054Z",
     "iopub.status.busy": "2022-10-03T14:03:02.689714Z",
     "iopub.status.idle": "2022-10-03T14:03:02.891179Z",
     "shell.execute_reply": "2022-10-03T14:03:02.889768Z"
    },
    "papermill": {
     "duration": 0.218122,
     "end_time": "2022-10-03T14:03:02.894275",
     "exception": false,
     "start_time": "2022-10-03T14:03:02.676153",
     "status": "completed"
    },
    "tags": []
   },
   "outputs": [],
   "source": [
    "# Import the model we want\n",
    "from sklearn.linear_model import LogisticRegression\n",
    "from sklearn.tree import DecisionTreeClassifier\n",
    "from sklearn.ensemble import RandomForestClassifier\n",
    "from sklearn.neighbors import KNeighborsClassifier\n",
    "\n",
    "# Define a function to fit and score our model\n",
    "def fit_and_score(models, X_train, X_val,\n",
    "                  y_train, y_val):\n",
    "    # Setup random seed to have repplicable results\n",
    "    np.random.seed(42)\n",
    "    # Empty dictionary to memorize our scores\n",
    "    scores = {}\n",
    "    # Looping over the methods\n",
    "    for name, model in models.items():\n",
    "        # Define the model\n",
    "        clf = model\n",
    "        # Fit the model to train data\n",
    "        clf.fit(X_train, y_train)\n",
    "        # Scoring our model\n",
    "        scores[name] = clf.score(X_val, y_val)\n",
    "    \n",
    "    return scores"
   ]
  },
  {
   "cell_type": "code",
   "execution_count": 17,
   "id": "32f0ec9c",
   "metadata": {
    "execution": {
     "iopub.execute_input": "2022-10-03T14:03:02.921034Z",
     "iopub.status.busy": "2022-10-03T14:03:02.920652Z",
     "iopub.status.idle": "2022-10-03T14:03:02.926856Z",
     "shell.execute_reply": "2022-10-03T14:03:02.925417Z"
    },
    "papermill": {
     "duration": 0.022309,
     "end_time": "2022-10-03T14:03:02.929542",
     "exception": false,
     "start_time": "2022-10-03T14:03:02.907233",
     "status": "completed"
    },
    "tags": []
   },
   "outputs": [],
   "source": [
    "# Creating a model dictionary to test the baseline models.\n",
    "model_dict = {\"Logistic Regression\": LogisticRegression(),\n",
    "              \"Decision Tree\": DecisionTreeClassifier(),\n",
    "              \"Random Forest\": RandomForestClassifier(),\n",
    "              \"KNN\": KNeighborsClassifier()}"
   ]
  },
  {
   "cell_type": "code",
   "execution_count": 18,
   "id": "81fbdb63",
   "metadata": {
    "execution": {
     "iopub.execute_input": "2022-10-03T14:03:02.956302Z",
     "iopub.status.busy": "2022-10-03T14:03:02.955147Z",
     "iopub.status.idle": "2022-10-03T14:03:03.477756Z",
     "shell.execute_reply": "2022-10-03T14:03:03.476374Z"
    },
    "papermill": {
     "duration": 0.538738,
     "end_time": "2022-10-03T14:03:03.480469",
     "exception": false,
     "start_time": "2022-10-03T14:03:02.941731",
     "status": "completed"
    },
    "tags": []
   },
   "outputs": [
    {
     "data": {
      "text/plain": [
       "(<AxesSubplot:>,\n",
       "           Logistic Regression  Decision Tree  Random Forest       KNN\n",
       " accuracy             0.815642       0.776536       0.826816  0.810056)"
      ]
     },
     "execution_count": 18,
     "metadata": {},
     "output_type": "execute_result"
    },
    {
     "data": {
      "image/png": "[encoded data removed]",
      "text/plain": [
       "<Figure size 432x288 with 1 Axes>"
      ]
     },
     "metadata": {
      "needs_background": "light"
     },
     "output_type": "display_data"
    }
   ],
   "source": [
    "# Scoring the models to choose the one that we want to tune.\n",
    "model_scores = fit_and_score(models = model_dict,\n",
    "                             X_train = X_train_std, X_val = X_val_std, \n",
    "                             y_train = y_train, y_val = y_val)\n",
    "\n",
    "# Visualizing the scores of models we choose\n",
    "models_compare = pd.DataFrame(model_scores, index = [\"accuracy\"])\n",
    "models_compare.T.plot.bar(), models_compare"
   ]
  },
  {
   "cell_type": "markdown",
   "id": "282257d0",
   "metadata": {
    "papermill": {
     "duration": 0.015577,
     "end_time": "2022-10-03T14:03:03.509969",
     "exception": false,
     "start_time": "2022-10-03T14:03:03.494392",
     "status": "completed"
    },
    "tags": []
   },
   "source": [
    "As we can see `RandomForestClassifier()` perform better on this data set and we can pick this model to perform a deeply **Model Driven EDA** and submit predictions to kaggle.\n",
    "\n",
    "Now we can tray to tune `RandomForest` to improve our scores.\n",
    "\n",
    "We will use `RandomizedSearchCV` to tune this hyper parameters:\n",
    "* n_estimators\n",
    "* max_depth\n",
    "* min_samples_split\n",
    "* min_samples_leaf\n",
    "\n",
    "To standardize features we need to create a pipeline."
   ]
  },
  {
   "cell_type": "code",
   "execution_count": 19,
   "id": "259f2243",
   "metadata": {
    "execution": {
     "iopub.execute_input": "2022-10-03T14:03:03.538471Z",
     "iopub.status.busy": "2022-10-03T14:03:03.538024Z",
     "iopub.status.idle": "2022-10-03T14:03:23.843333Z",
     "shell.execute_reply": "2022-10-03T14:03:23.841738Z"
    },
    "papermill": {
     "duration": 20.321934,
     "end_time": "2022-10-03T14:03:23.846175",
     "exception": false,
     "start_time": "2022-10-03T14:03:03.524241",
     "status": "completed"
    },
    "tags": []
   },
   "outputs": [
    {
     "name": "stdout",
     "output_type": "stream",
     "text": [
      "Fitting 5 folds for each of 5 candidates, totalling 25 fits\n"
     ]
    },
    {
     "data": {
      "text/plain": [
       "0.8156424581005587"
      ]
     },
     "execution_count": 19,
     "metadata": {},
     "output_type": "execute_result"
    }
   ],
   "source": [
    "from sklearn.model_selection import RandomizedSearchCV\n",
    "from sklearn.pipeline import Pipeline\n",
    "my_pipe = Pipeline([(\"scaler\", StandardScaler()),\n",
    "                     (\"clf\", RandomForestClassifier())])\n",
    "\n",
    "\n",
    "# Create a parameters dictionary\n",
    "param_dict = {\"clf__n_estimators\": range(50, 1000, 10),\n",
    "              \"clf__max_depth\": range(10, 200, 10),\n",
    "              \"clf__min_samples_split\": [2, 5, 10],\n",
    "              \"clf__min_samples_leaf\": [1, 2, 4]}\n",
    "# Setup random seed\n",
    "np.random.seed(42)\n",
    "\n",
    "# RSCV on RandomForest\n",
    "rs_rf = RandomizedSearchCV(estimator = my_pipe,\n",
    "                           param_distributions = param_dict,\n",
    "                           n_jobs = -1,\n",
    "                           n_iter = 5,\n",
    "                           cv = 5,\n",
    "                           verbose = True)\n",
    "\n",
    "rs_rf.fit(X_train,y_train)\n",
    "rs_rf.score(X_val, y_val)\n"
   ]
  },
  {
   "cell_type": "markdown",
   "id": "c36ff9b1",
   "metadata": {
    "execution": {
     "iopub.execute_input": "2022-09-20T10:45:33.857033Z",
     "iopub.status.busy": "2022-09-20T10:45:33.856643Z",
     "iopub.status.idle": "2022-09-20T10:45:33.884983Z",
     "shell.execute_reply": "2022-09-20T10:45:33.882827Z",
     "shell.execute_reply.started": "2022-09-20T10:45:33.856956Z"
    },
    "papermill": {
     "duration": 0.012378,
     "end_time": "2022-10-03T14:03:23.871847",
     "exception": false,
     "start_time": "2022-10-03T14:03:23.859469",
     "status": "completed"
    },
    "tags": []
   },
   "source": [
    "We don't see emprovement with RSCV. \n",
    "\n",
    "Maybe further investigations over data and model is required."
   ]
  },
  {
   "cell_type": "markdown",
   "id": "3446c039",
   "metadata": {
    "papermill": {
     "duration": 0.012309,
     "end_time": "2022-10-03T14:03:23.897112",
     "exception": false,
     "start_time": "2022-10-03T14:03:23.884803",
     "status": "completed"
    },
    "tags": []
   },
   "source": [
    "## Making prediction with our trained model\n",
    "\n",
    "Now we focus on making predictions with our model.\n",
    "\n",
    "To to this we need to preprocess test data like we did with our test data."
   ]
  },
  {
   "cell_type": "code",
   "execution_count": 20,
   "id": "0ea230ee",
   "metadata": {
    "execution": {
     "iopub.execute_input": "2022-10-03T14:03:23.925506Z",
     "iopub.status.busy": "2022-10-03T14:03:23.923984Z",
     "iopub.status.idle": "2022-10-03T14:03:23.949588Z",
     "shell.execute_reply": "2022-10-03T14:03:23.947051Z"
    },
    "papermill": {
     "duration": 0.043831,
     "end_time": "2022-10-03T14:03:23.953541",
     "exception": false,
     "start_time": "2022-10-03T14:03:23.909710",
     "status": "completed"
    },
    "tags": []
   },
   "outputs": [
    {
     "name": "stdout",
     "output_type": "stream",
     "text": [
      "<class 'pandas.core.frame.DataFrame'>\n",
      "RangeIndex: 418 entries, 0 to 417\n",
      "Data columns (total 8 columns):\n",
      " #   Column       Non-Null Count  Dtype   \n",
      "---  ------       --------------  -----   \n",
      " 0   PassengerId  418 non-null    int64   \n",
      " 1   Pclass       418 non-null    int64   \n",
      " 2   Sex          418 non-null    category\n",
      " 3   Age          332 non-null    float64 \n",
      " 4   SibSp        418 non-null    int64   \n",
      " 5   Parch        418 non-null    int64   \n",
      " 6   Fare         417 non-null    float64 \n",
      " 7   Embarked     418 non-null    category\n",
      "dtypes: category(2), float64(2), int64(4)\n",
      "memory usage: 20.8 KB\n"
     ]
    }
   ],
   "source": [
    "# Changing type to all non numerical values\n",
    "for label, content in test.items():\n",
    "    if pd.api.types.is_string_dtype(content):\n",
    "        test[label] = content.astype(\"category\").cat.as_ordered()\n",
    "        \n",
    "test.info()"
   ]
  },
  {
   "cell_type": "code",
   "execution_count": 21,
   "id": "8de9eac0",
   "metadata": {
    "execution": {
     "iopub.execute_input": "2022-10-03T14:03:23.980844Z",
     "iopub.status.busy": "2022-10-03T14:03:23.980507Z",
     "iopub.status.idle": "2022-10-03T14:03:24.003168Z",
     "shell.execute_reply": "2022-10-03T14:03:24.000933Z"
    },
    "papermill": {
     "duration": 0.039104,
     "end_time": "2022-10-03T14:03:24.005862",
     "exception": false,
     "start_time": "2022-10-03T14:03:23.966758",
     "status": "completed"
    },
    "tags": []
   },
   "outputs": [
    {
     "name": "stdout",
     "output_type": "stream",
     "text": [
      "<class 'pandas.core.frame.DataFrame'>\n",
      "RangeIndex: 418 entries, 0 to 417\n",
      "Data columns (total 10 columns):\n",
      " #   Column           Non-Null Count  Dtype   \n",
      "---  ------           --------------  -----   \n",
      " 0   PassengerId      418 non-null    int64   \n",
      " 1   Pclass           418 non-null    int64   \n",
      " 2   Sex              418 non-null    category\n",
      " 3   Age              418 non-null    float64 \n",
      " 4   SibSp            418 non-null    int64   \n",
      " 5   Parch            418 non-null    int64   \n",
      " 6   Fare             418 non-null    float64 \n",
      " 7   Embarked         418 non-null    category\n",
      " 8   Age_is_missing   418 non-null    bool    \n",
      " 9   Fare_is_missing  418 non-null    bool    \n",
      "dtypes: bool(2), category(2), float64(2), int64(4)\n",
      "memory usage: 21.6 KB\n"
     ]
    }
   ],
   "source": [
    "for label, content in test.items():\n",
    "    if pd.api.types.is_numeric_dtype(content):\n",
    "        if pd.isnull(content).sum():\n",
    "            # Add a column that says if the value is missing or not.\n",
    "            test[label + \"_is_missing\"] = pd.isnull(content)\n",
    "            # Fill numerical values with the median\n",
    "            test[label] = content.fillna(content.median())\n",
    "\n",
    "test.info()"
   ]
  },
  {
   "cell_type": "code",
   "execution_count": 22,
   "id": "3a0864e5",
   "metadata": {
    "execution": {
     "iopub.execute_input": "2022-10-03T14:03:24.034866Z",
     "iopub.status.busy": "2022-10-03T14:03:24.032834Z",
     "iopub.status.idle": "2022-10-03T14:03:24.059200Z",
     "shell.execute_reply": "2022-10-03T14:03:24.057466Z"
    },
    "papermill": {
     "duration": 0.043663,
     "end_time": "2022-10-03T14:03:24.062219",
     "exception": false,
     "start_time": "2022-10-03T14:03:24.018556",
     "status": "completed"
    },
    "tags": []
   },
   "outputs": [
    {
     "name": "stdout",
     "output_type": "stream",
     "text": [
      "<class 'pandas.core.frame.DataFrame'>\n",
      "RangeIndex: 418 entries, 0 to 417\n",
      "Data columns (total 12 columns):\n",
      " #   Column               Non-Null Count  Dtype  \n",
      "---  ------               --------------  -----  \n",
      " 0   PassengerId          418 non-null    int64  \n",
      " 1   Pclass               418 non-null    int64  \n",
      " 2   Sex                  418 non-null    int8   \n",
      " 3   Age                  418 non-null    float64\n",
      " 4   SibSp                418 non-null    int64  \n",
      " 5   Parch                418 non-null    int64  \n",
      " 6   Fare                 418 non-null    float64\n",
      " 7   Embarked             418 non-null    int8   \n",
      " 8   Age_is_missing       418 non-null    bool   \n",
      " 9   Fare_is_missing      418 non-null    bool   \n",
      " 10  Sex_is_missing       418 non-null    bool   \n",
      " 11  Embarked_is_missing  418 non-null    bool   \n",
      "dtypes: bool(4), float64(2), int64(4), int8(2)\n",
      "memory usage: 22.2 KB\n"
     ]
    },
    {
     "data": {
      "text/plain": [
       "(None,\n",
       " Index(['PassengerId', 'Survived', 'Pclass', 'Sex', 'Age', 'SibSp', 'Parch',\n",
       "        'Fare', 'Embarked', 'Age_is_missing', 'Sex_is_missing',\n",
       "        'Embarked_is_missing'],\n",
       "       dtype='object'))"
      ]
     },
     "execution_count": 22,
     "metadata": {},
     "output_type": "execute_result"
    }
   ],
   "source": [
    "for label, content in test.items():\n",
    "    if not pd.api.types.is_numeric_dtype(content):\n",
    "        # Add a column if values is missing\n",
    "        test[label + \"_is_missing\"] = pd.isnull(content)\n",
    "        # Change the name of the category with its own code, adding 1\n",
    "        test[label] = pd.Categorical(content).codes + 1\n",
    "\n",
    "test.info(), train.columns"
   ]
  },
  {
   "cell_type": "code",
   "execution_count": 23,
   "id": "17c9524c",
   "metadata": {
    "execution": {
     "iopub.execute_input": "2022-10-03T14:03:24.089863Z",
     "iopub.status.busy": "2022-10-03T14:03:24.089519Z",
     "iopub.status.idle": "2022-10-03T14:03:24.107792Z",
     "shell.execute_reply": "2022-10-03T14:03:24.105557Z"
    },
    "papermill": {
     "duration": 0.035147,
     "end_time": "2022-10-03T14:03:24.110456",
     "exception": false,
     "start_time": "2022-10-03T14:03:24.075309",
     "status": "completed"
    },
    "tags": []
   },
   "outputs": [
    {
     "name": "stdout",
     "output_type": "stream",
     "text": [
      "<class 'pandas.core.frame.DataFrame'>\n",
      "RangeIndex: 891 entries, 0 to 890\n",
      "Data columns (total 12 columns):\n",
      " #   Column               Non-Null Count  Dtype  \n",
      "---  ------               --------------  -----  \n",
      " 0   PassengerId          891 non-null    int64  \n",
      " 1   Pclass               891 non-null    int64  \n",
      " 2   Sex                  891 non-null    int8   \n",
      " 3   Age                  891 non-null    float64\n",
      " 4   SibSp                891 non-null    int64  \n",
      " 5   Parch                891 non-null    int64  \n",
      " 6   Fare                 891 non-null    float64\n",
      " 7   Embarked             891 non-null    int8   \n",
      " 8   Age_is_missing       891 non-null    bool   \n",
      " 9   Fare_is_missing      891 non-null    int64  \n",
      " 10  Sex_is_missing       891 non-null    bool   \n",
      " 11  Embarked_is_missing  891 non-null    bool   \n",
      "dtypes: bool(3), float64(2), int64(5), int8(2)\n",
      "memory usage: 53.2 KB\n"
     ]
    }
   ],
   "source": [
    "y = train[\"Survived\"]\n",
    "train[\"Fare_is_missing\"] = 0\n",
    "col = list(test.columns.values)\n",
    "train = train[col]\n",
    "train.info()"
   ]
  },
  {
   "cell_type": "markdown",
   "id": "b4d3d026",
   "metadata": {
    "papermill": {
     "duration": 0.012805,
     "end_time": "2022-10-03T14:03:24.135923",
     "exception": false,
     "start_time": "2022-10-03T14:03:24.123118",
     "status": "completed"
    },
    "tags": []
   },
   "source": [
    "Now our data set has the same format.\n",
    "\n",
    "Let's train our `RandomForestClassifier()`, over all train data, and then make prediction."
   ]
  },
  {
   "cell_type": "code",
   "execution_count": 24,
   "id": "fae97e85",
   "metadata": {
    "execution": {
     "iopub.execute_input": "2022-10-03T14:03:24.164967Z",
     "iopub.status.busy": "2022-10-03T14:03:24.162971Z",
     "iopub.status.idle": "2022-10-03T14:03:24.417496Z",
     "shell.execute_reply": "2022-10-03T14:03:24.416208Z"
    },
    "papermill": {
     "duration": 0.27188,
     "end_time": "2022-10-03T14:03:24.420800",
     "exception": false,
     "start_time": "2022-10-03T14:03:24.148920",
     "status": "completed"
    },
    "tags": []
   },
   "outputs": [],
   "source": [
    "clf_top = RandomForestClassifier(random_state = 42)\n",
    "clf_top.fit(train, y)\n",
    "predictions = clf_top.predict(test)"
   ]
  },
  {
   "cell_type": "code",
   "execution_count": 25,
   "id": "a0897290",
   "metadata": {
    "execution": {
     "iopub.execute_input": "2022-10-03T14:03:24.448891Z",
     "iopub.status.busy": "2022-10-03T14:03:24.448535Z",
     "iopub.status.idle": "2022-10-03T14:03:24.459486Z",
     "shell.execute_reply": "2022-10-03T14:03:24.458251Z"
    },
    "papermill": {
     "duration": 0.028078,
     "end_time": "2022-10-03T14:03:24.462273",
     "exception": false,
     "start_time": "2022-10-03T14:03:24.434195",
     "status": "completed"
    },
    "tags": []
   },
   "outputs": [],
   "source": [
    "# Create a submission file for Kaggle competition\n",
    "pred = {\"passengerID\": test.PassengerId,\n",
    "        \"Survived\": predictions}\n",
    "\n",
    "pred_df = pd.DataFrame(pred)\n",
    "submissions = pred_df.to_csv(\"submissions.csv\", index = False)"
   ]
  },
  {
   "cell_type": "code",
   "execution_count": null,
   "id": "a9487925",
   "metadata": {
    "papermill": {
     "duration": 0.012787,
     "end_time": "2022-10-03T14:03:24.488044",
     "exception": false,
     "start_time": "2022-10-03T14:03:24.475257",
     "status": "completed"
    },
    "tags": []
   },
   "outputs": [],
   "source": []
  }
 ],
 "metadata": {
  "kernelspec": {
   "display_name": "Python 3",
   "language": "python",
   "name": "python3"
  },
  "language_info": {
   "codemirror_mode": {
    "name": "ipython",
    "version": 3
   },
   "file_extension": ".py",
   "mimetype": "text/x-python",
   "name": "python",
   "nbconvert_exporter": "python",
   "pygments_lexer": "ipython3",
   "version": "3.7.12"
  },
  "papermill": {
   "default_parameters": {},
   "duration": 38.896982,
   "end_time": "2022-10-03T14:03:27.123421",
   "environment_variables": {},
   "exception": null,
   "input_path": "__notebook__.ipynb",
   "output_path": "__notebook__.ipynb",
   "parameters": {},
   "start_time": "2022-10-03T14:02:48.226439",
   "version": "2.3.4"
  }
 },
 "nbformat": 4,
 "nbformat_minor": 5
}
