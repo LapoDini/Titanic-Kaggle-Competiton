{
 "cells": [
  {
   "cell_type": "markdown",
   "id": "9b44891c",
   "metadata": {
    "papermill": {
     "duration": 0.008716,
     "end_time": "2022-09-29T19:27:00.322036",
     "exception": false,
     "start_time": "2022-09-29T19:27:00.313320",
     "status": "completed"
    },
    "tags": []
   },
   "source": [
    "# Titanic Survivor Predictions\n",
    "\n",
    "From Kaggle Competition, this notebook contains a model to compete in *Titanic - Machine Learning from Disaster*, that can be found here: https://www.kaggle.com/competitions/titanic/overview.\n",
    "\n",
    "## 1. Problem Definition \n",
    "\n",
    "Use machine learning to create a model that predicts which passengers survived the Titanic shipwreck.\n",
    "\n",
    "## 2. Data\n",
    "\n",
    "The data can be downloaded here: https://www.kaggle.com/competitions/titanic/data.\n",
    "\n",
    "The data has been split into two groups:\n",
    "\n",
    "* training set (train.csv)\n",
    "* test set (test.csv)\n",
    "\n",
    "## 3. Evaluation\n",
    "\n",
    "Kaggle doesn't provides thersholds for this competition so the aim is to maximize model's **accuracy**.\n",
    "\n",
    "## 4. Features\n",
    "\n",
    "Data Dictionary:\n",
    "\n",
    "1. survival: Survival\n",
    "    * 0 = No\n",
    "    * 1 = Yes\n",
    "2. pclass: Ticket class\t\n",
    "    * 1 = 1st class\n",
    "    * 2 = 2nd class\n",
    "    * 3 = 3rd class\n",
    "3. sex: Sex\n",
    "4. Age:\tAge in years\n",
    "5. sibsp: Number of siblings / spouses aboard the Titanic\t\n",
    "6. parch: Number of parents / children aboard the Titanic\t\n",
    "7. ticket: Ticket number\t\n",
    "8. fare: Passenger fare\t\n",
    "9. cabin: Cabin number\t\n",
    "10. embarked: Port of Embarkation\n",
    "    * C = Cherbourg\n",
    "    * Q = Queenstown\n",
    "    * S = Southampton"
   ]
  },
  {
   "cell_type": "markdown",
   "id": "dcce335a",
   "metadata": {
    "papermill": {
     "duration": 0.007107,
     "end_time": "2022-09-29T19:27:00.336772",
     "exception": false,
     "start_time": "2022-09-29T19:27:00.329665",
     "status": "completed"
    },
    "tags": []
   },
   "source": [
    "## Exploratory Data Analysis"
   ]
  },
  {
   "cell_type": "code",
   "execution_count": 1,
   "id": "52286ce1",
   "metadata": {
    "execution": {
     "iopub.execute_input": "2022-09-29T19:27:00.353760Z",
     "iopub.status.busy": "2022-09-29T19:27:00.352944Z",
     "iopub.status.idle": "2022-09-29T19:27:01.243085Z",
     "shell.execute_reply": "2022-09-29T19:27:01.241417Z"
    },
    "papermill": {
     "duration": 0.902249,
     "end_time": "2022-09-29T19:27:01.246363",
     "exception": false,
     "start_time": "2022-09-29T19:27:00.344114",
     "status": "completed"
    },
    "tags": []
   },
   "outputs": [],
   "source": [
    "import pandas as pd\n",
    "import numpy as np\n",
    "import matplotlib.pyplot as plt\n",
    "import seaborn as sns\n",
    "\n",
    "# Import the DataFrame\n",
    "df_train  = pd.read_csv('../input/titanic/train.csv')\n",
    "df_test   = pd.read_csv('../input/titanic/test.csv')"
   ]
  },
  {
   "cell_type": "code",
   "execution_count": 2,
   "id": "801a8896",
   "metadata": {
    "execution": {
     "iopub.execute_input": "2022-09-29T19:27:01.273969Z",
     "iopub.status.busy": "2022-09-29T19:27:01.273438Z",
     "iopub.status.idle": "2022-09-29T19:27:01.290700Z",
     "shell.execute_reply": "2022-09-29T19:27:01.290030Z"
    },
    "papermill": {
     "duration": 0.032342,
     "end_time": "2022-09-29T19:27:01.293248",
     "exception": false,
     "start_time": "2022-09-29T19:27:01.260906",
     "status": "completed"
    },
    "scrolled": true,
    "tags": []
   },
   "outputs": [
    {
     "data": {
      "text/plain": [
       "PassengerId      0\n",
       "Survived         0\n",
       "Pclass           0\n",
       "Name             0\n",
       "Sex              0\n",
       "Age            177\n",
       "SibSp            0\n",
       "Parch            0\n",
       "Ticket           0\n",
       "Fare             0\n",
       "Cabin          687\n",
       "Embarked         2\n",
       "dtype: int64"
      ]
     },
     "execution_count": 2,
     "metadata": {},
     "output_type": "execute_result"
    }
   ],
   "source": [
    "# Checking the train data head and infos\n",
    "df_train.isnull().sum()"
   ]
  },
  {
   "cell_type": "code",
   "execution_count": 3,
   "id": "069ba5cf",
   "metadata": {
    "execution": {
     "iopub.execute_input": "2022-09-29T19:27:01.323379Z",
     "iopub.status.busy": "2022-09-29T19:27:01.323015Z",
     "iopub.status.idle": "2022-09-29T19:27:01.335033Z",
     "shell.execute_reply": "2022-09-29T19:27:01.333841Z"
    },
    "papermill": {
     "duration": 0.031647,
     "end_time": "2022-09-29T19:27:01.337266",
     "exception": false,
     "start_time": "2022-09-29T19:27:01.305619",
     "status": "completed"
    },
    "tags": []
   },
   "outputs": [
    {
     "data": {
      "text/plain": [
       "PassengerId      0\n",
       "Pclass           0\n",
       "Name             0\n",
       "Sex              0\n",
       "Age             86\n",
       "SibSp            0\n",
       "Parch            0\n",
       "Ticket           0\n",
       "Fare             1\n",
       "Cabin          327\n",
       "Embarked         0\n",
       "dtype: int64"
      ]
     },
     "execution_count": 3,
     "metadata": {},
     "output_type": "execute_result"
    }
   ],
   "source": [
    "# Check for missing values in test set\n",
    "df_test.isnull().sum()"
   ]
  },
  {
   "cell_type": "markdown",
   "id": "08ecb982",
   "metadata": {
    "papermill": {
     "duration": 0.007597,
     "end_time": "2022-09-29T19:27:01.352745",
     "exception": false,
     "start_time": "2022-09-29T19:27:01.345148",
     "status": "completed"
    },
    "tags": []
   },
   "source": [
    "Since the Cabin column has the 77% of missing data is convinient to drop it.\n",
    "\n",
    "Another columns to drop are: \n",
    "* Name\n",
    "* Ticket number\n",
    "\n",
    "since they are probably not correlated with our predictions."
   ]
  },
  {
   "cell_type": "code",
   "execution_count": 4,
   "id": "53e2dff6",
   "metadata": {
    "execution": {
     "iopub.execute_input": "2022-09-29T19:27:01.370108Z",
     "iopub.status.busy": "2022-09-29T19:27:01.369252Z",
     "iopub.status.idle": "2022-09-29T19:27:01.379069Z",
     "shell.execute_reply": "2022-09-29T19:27:01.378259Z"
    },
    "papermill": {
     "duration": 0.020218,
     "end_time": "2022-09-29T19:27:01.380958",
     "exception": false,
     "start_time": "2022-09-29T19:27:01.360740",
     "status": "completed"
    },
    "tags": []
   },
   "outputs": [],
   "source": [
    "train = df_train.drop([\"Cabin\", \"Name\", \"Ticket\"], axis = 1)\n",
    "test = df_test.drop([\"Cabin\", \"Name\", \"Ticket\"], axis = 1)"
   ]
  },
  {
   "cell_type": "code",
   "execution_count": 5,
   "id": "4c7fdc07",
   "metadata": {
    "execution": {
     "iopub.execute_input": "2022-09-29T19:27:01.398453Z",
     "iopub.status.busy": "2022-09-29T19:27:01.397087Z",
     "iopub.status.idle": "2022-09-29T19:27:01.418442Z",
     "shell.execute_reply": "2022-09-29T19:27:01.417586Z"
    },
    "papermill": {
     "duration": 0.032033,
     "end_time": "2022-09-29T19:27:01.420481",
     "exception": false,
     "start_time": "2022-09-29T19:27:01.388448",
     "status": "completed"
    },
    "tags": []
   },
   "outputs": [
    {
     "data": {
      "text/html": [
       "<div>\n",
       "<style scoped>\n",
       "    .dataframe tbody tr th:only-of-type {\n",
       "        vertical-align: middle;\n",
       "    }\n",
       "\n",
       "    .dataframe tbody tr th {\n",
       "        vertical-align: top;\n",
       "    }\n",
       "\n",
       "    .dataframe thead th {\n",
       "        text-align: right;\n",
       "    }\n",
       "</style>\n",
       "<table border=\"1\" class=\"dataframe\">\n",
       "  <thead>\n",
       "    <tr style=\"text-align: right;\">\n",
       "      <th></th>\n",
       "      <th>PassengerId</th>\n",
       "      <th>Survived</th>\n",
       "      <th>Pclass</th>\n",
       "      <th>Sex</th>\n",
       "      <th>Age</th>\n",
       "      <th>SibSp</th>\n",
       "      <th>Parch</th>\n",
       "      <th>Fare</th>\n",
       "      <th>Embarked</th>\n",
       "    </tr>\n",
       "  </thead>\n",
       "  <tbody>\n",
       "    <tr>\n",
       "      <th>0</th>\n",
       "      <td>1</td>\n",
       "      <td>0</td>\n",
       "      <td>3</td>\n",
       "      <td>male</td>\n",
       "      <td>22.0</td>\n",
       "      <td>1</td>\n",
       "      <td>0</td>\n",
       "      <td>7.2500</td>\n",
       "      <td>S</td>\n",
       "    </tr>\n",
       "    <tr>\n",
       "      <th>1</th>\n",
       "      <td>2</td>\n",
       "      <td>1</td>\n",
       "      <td>1</td>\n",
       "      <td>female</td>\n",
       "      <td>38.0</td>\n",
       "      <td>1</td>\n",
       "      <td>0</td>\n",
       "      <td>71.2833</td>\n",
       "      <td>C</td>\n",
       "    </tr>\n",
       "    <tr>\n",
       "      <th>2</th>\n",
       "      <td>3</td>\n",
       "      <td>1</td>\n",
       "      <td>3</td>\n",
       "      <td>female</td>\n",
       "      <td>26.0</td>\n",
       "      <td>0</td>\n",
       "      <td>0</td>\n",
       "      <td>7.9250</td>\n",
       "      <td>S</td>\n",
       "    </tr>\n",
       "    <tr>\n",
       "      <th>3</th>\n",
       "      <td>4</td>\n",
       "      <td>1</td>\n",
       "      <td>1</td>\n",
       "      <td>female</td>\n",
       "      <td>35.0</td>\n",
       "      <td>1</td>\n",
       "      <td>0</td>\n",
       "      <td>53.1000</td>\n",
       "      <td>S</td>\n",
       "    </tr>\n",
       "    <tr>\n",
       "      <th>4</th>\n",
       "      <td>5</td>\n",
       "      <td>0</td>\n",
       "      <td>3</td>\n",
       "      <td>male</td>\n",
       "      <td>35.0</td>\n",
       "      <td>0</td>\n",
       "      <td>0</td>\n",
       "      <td>8.0500</td>\n",
       "      <td>S</td>\n",
       "    </tr>\n",
       "    <tr>\n",
       "      <th>...</th>\n",
       "      <td>...</td>\n",
       "      <td>...</td>\n",
       "      <td>...</td>\n",
       "      <td>...</td>\n",
       "      <td>...</td>\n",
       "      <td>...</td>\n",
       "      <td>...</td>\n",
       "      <td>...</td>\n",
       "      <td>...</td>\n",
       "    </tr>\n",
       "    <tr>\n",
       "      <th>886</th>\n",
       "      <td>887</td>\n",
       "      <td>0</td>\n",
       "      <td>2</td>\n",
       "      <td>male</td>\n",
       "      <td>27.0</td>\n",
       "      <td>0</td>\n",
       "      <td>0</td>\n",
       "      <td>13.0000</td>\n",
       "      <td>S</td>\n",
       "    </tr>\n",
       "    <tr>\n",
       "      <th>887</th>\n",
       "      <td>888</td>\n",
       "      <td>1</td>\n",
       "      <td>1</td>\n",
       "      <td>female</td>\n",
       "      <td>19.0</td>\n",
       "      <td>0</td>\n",
       "      <td>0</td>\n",
       "      <td>30.0000</td>\n",
       "      <td>S</td>\n",
       "    </tr>\n",
       "    <tr>\n",
       "      <th>888</th>\n",
       "      <td>889</td>\n",
       "      <td>0</td>\n",
       "      <td>3</td>\n",
       "      <td>female</td>\n",
       "      <td>NaN</td>\n",
       "      <td>1</td>\n",
       "      <td>2</td>\n",
       "      <td>23.4500</td>\n",
       "      <td>S</td>\n",
       "    </tr>\n",
       "    <tr>\n",
       "      <th>889</th>\n",
       "      <td>890</td>\n",
       "      <td>1</td>\n",
       "      <td>1</td>\n",
       "      <td>male</td>\n",
       "      <td>26.0</td>\n",
       "      <td>0</td>\n",
       "      <td>0</td>\n",
       "      <td>30.0000</td>\n",
       "      <td>C</td>\n",
       "    </tr>\n",
       "    <tr>\n",
       "      <th>890</th>\n",
       "      <td>891</td>\n",
       "      <td>0</td>\n",
       "      <td>3</td>\n",
       "      <td>male</td>\n",
       "      <td>32.0</td>\n",
       "      <td>0</td>\n",
       "      <td>0</td>\n",
       "      <td>7.7500</td>\n",
       "      <td>Q</td>\n",
       "    </tr>\n",
       "  </tbody>\n",
       "</table>\n",
       "<p>891 rows × 9 columns</p>\n",
       "</div>"
      ],
      "text/plain": [
       "     PassengerId  Survived  Pclass     Sex   Age  SibSp  Parch     Fare  \\\n",
       "0              1         0       3    male  22.0      1      0   7.2500   \n",
       "1              2         1       1  female  38.0      1      0  71.2833   \n",
       "2              3         1       3  female  26.0      0      0   7.9250   \n",
       "3              4         1       1  female  35.0      1      0  53.1000   \n",
       "4              5         0       3    male  35.0      0      0   8.0500   \n",
       "..           ...       ...     ...     ...   ...    ...    ...      ...   \n",
       "886          887         0       2    male  27.0      0      0  13.0000   \n",
       "887          888         1       1  female  19.0      0      0  30.0000   \n",
       "888          889         0       3  female   NaN      1      2  23.4500   \n",
       "889          890         1       1    male  26.0      0      0  30.0000   \n",
       "890          891         0       3    male  32.0      0      0   7.7500   \n",
       "\n",
       "    Embarked  \n",
       "0          S  \n",
       "1          C  \n",
       "2          S  \n",
       "3          S  \n",
       "4          S  \n",
       "..       ...  \n",
       "886        S  \n",
       "887        S  \n",
       "888        S  \n",
       "889        C  \n",
       "890        Q  \n",
       "\n",
       "[891 rows x 9 columns]"
      ]
     },
     "execution_count": 5,
     "metadata": {},
     "output_type": "execute_result"
    }
   ],
   "source": [
    "train"
   ]
  },
  {
   "cell_type": "markdown",
   "id": "1f8a6c94",
   "metadata": {
    "papermill": {
     "duration": 0.007718,
     "end_time": "2022-09-29T19:27:01.436139",
     "exception": false,
     "start_time": "2022-09-29T19:27:01.428421",
     "status": "completed"
    },
    "tags": []
   },
   "source": [
    "Now proced to EDA using only training set.\n",
    "\n",
    "Check the distribution of `Pclass` vewing wich of this classes has more possibility to survive.\n",
    "\n",
    "As we can see, more of the survivros are in the 1st class."
   ]
  },
  {
   "cell_type": "code",
   "execution_count": 6,
   "id": "c7256cc0",
   "metadata": {
    "execution": {
     "iopub.execute_input": "2022-09-29T19:27:01.453696Z",
     "iopub.status.busy": "2022-09-29T19:27:01.452742Z",
     "iopub.status.idle": "2022-09-29T19:27:01.735590Z",
     "shell.execute_reply": "2022-09-29T19:27:01.734722Z"
    },
    "papermill": {
     "duration": 0.293741,
     "end_time": "2022-09-29T19:27:01.737688",
     "exception": false,
     "start_time": "2022-09-29T19:27:01.443947",
     "status": "completed"
    },
    "tags": []
   },
   "outputs": [
    {
     "data": {
      "text/plain": [
       "Text(0, 0.5, 'Passenger per Class')"
      ]
     },
     "execution_count": 6,
     "metadata": {},
     "output_type": "execute_result"
    },
    {
     "data": {
      "image/png": "[encoded data removed]",
      "text/plain": [
       "<Figure size 432x288 with 1 Axes>"
      ]
     },
     "metadata": {
      "needs_background": "light"
     },
     "output_type": "display_data"
    }
   ],
   "source": [
    "plt.hist(train[\"Pclass\"])\n",
    "plt.title(\"Passenger per Class\")\n",
    "plt.xlabel(\"Class\")\n",
    "plt.ylabel(\"Passenger per Class\")"
   ]
  },
  {
   "cell_type": "code",
   "execution_count": 7,
   "id": "dcf93b7c",
   "metadata": {
    "execution": {
     "iopub.execute_input": "2022-09-29T19:27:01.755782Z",
     "iopub.status.busy": "2022-09-29T19:27:01.755347Z",
     "iopub.status.idle": "2022-09-29T19:27:02.036101Z",
     "shell.execute_reply": "2022-09-29T19:27:02.035249Z"
    },
    "papermill": {
     "duration": 0.292044,
     "end_time": "2022-09-29T19:27:02.038201",
     "exception": false,
     "start_time": "2022-09-29T19:27:01.746157",
     "status": "completed"
    },
    "tags": []
   },
   "outputs": [
    {
     "data": {
      "text/plain": [
       "<matplotlib.legend.Legend at 0x7fb121e65c50>"
      ]
     },
     "execution_count": 7,
     "metadata": {},
     "output_type": "execute_result"
    },
    {
     "data": {
      "image/png": "[encoded data removed]",
      "text/plain": [
       "<Figure size 432x288 with 1 Axes>"
      ]
     },
     "metadata": {
      "needs_background": "light"
     },
     "output_type": "display_data"
    }
   ],
   "source": [
    "survivors = train[\"Pclass\"][train.Survived == 1]\n",
    "nosurvivors = train[\"Pclass\"][train.Survived == 0]\n",
    "\n",
    "plt.hist([survivors, nosurvivors], label=[\"Survivor\", \"No Survivor\"], color = [\"salmon\", \"lightblue\"]);\n",
    "plt.xlabel(\"Class\")\n",
    "plt.ylabel(\"N. of Passengers\")\n",
    "plt.title(\"Survivors vs. No-Survivors per Class\")\n",
    "plt.legend([\"Survivors\", \"No Survivors\"])\n",
    "             \n",
    "                        \n"
   ]
  },
  {
   "cell_type": "markdown",
   "id": "e874bb3f",
   "metadata": {
    "papermill": {
     "duration": 0.008403,
     "end_time": "2022-09-29T19:27:02.055313",
     "exception": false,
     "start_time": "2022-09-29T19:27:02.046910",
     "status": "completed"
    },
    "tags": []
   },
   "source": [
    "### Ditribution of ages\n",
    "\n",
    "Try to visualize the distribution of passengers' age."
   ]
  },
  {
   "cell_type": "code",
   "execution_count": 8,
   "id": "dbfafe57",
   "metadata": {
    "execution": {
     "iopub.execute_input": "2022-09-29T19:27:02.074167Z",
     "iopub.status.busy": "2022-09-29T19:27:02.073275Z",
     "iopub.status.idle": "2022-09-29T19:27:02.308172Z",
     "shell.execute_reply": "2022-09-29T19:27:02.307318Z"
    },
    "papermill": {
     "duration": 0.246508,
     "end_time": "2022-09-29T19:27:02.310337",
     "exception": false,
     "start_time": "2022-09-29T19:27:02.063829",
     "status": "completed"
    },
    "tags": []
   },
   "outputs": [
    {
     "data": {
      "image/png": "[encoded data removed]",
      "text/plain": [
       "<Figure size 432x288 with 1 Axes>"
      ]
     },
     "metadata": {
      "needs_background": "light"
     },
     "output_type": "display_data"
    }
   ],
   "source": [
    "train.Age.hist();"
   ]
  },
  {
   "cell_type": "markdown",
   "id": "d30e43eb",
   "metadata": {
    "papermill": {
     "duration": 0.008692,
     "end_time": "2022-09-29T19:27:02.328097",
     "exception": false,
     "start_time": "2022-09-29T19:27:02.319405",
     "status": "completed"
    },
    "tags": []
   },
   "source": [
    "### Fare vs Age\n",
    "\n",
    "Let's try to visualize the correlation between `Age` and `Fare` with a scatter plot."
   ]
  },
  {
   "cell_type": "code",
   "execution_count": 9,
   "id": "07b94d8a",
   "metadata": {
    "execution": {
     "iopub.execute_input": "2022-09-29T19:27:02.347343Z",
     "iopub.status.busy": "2022-09-29T19:27:02.347057Z",
     "iopub.status.idle": "2022-09-29T19:27:02.629694Z",
     "shell.execute_reply": "2022-09-29T19:27:02.628654Z"
    },
    "papermill": {
     "duration": 0.294683,
     "end_time": "2022-09-29T19:27:02.631942",
     "exception": false,
     "start_time": "2022-09-29T19:27:02.337259",
     "status": "completed"
    },
    "tags": []
   },
   "outputs": [
    {
     "data": {
      "image/png": "[encoded data removed]",
      "text/plain": [
       "<Figure size 432x288 with 1 Axes>"
      ]
     },
     "metadata": {
      "needs_background": "light"
     },
     "output_type": "display_data"
    }
   ],
   "source": [
    "plt.scatter(train.Age[train.Survived == 1],\n",
    "            train.Fare[train.Survived == 1],\n",
    "            c = \"Salmon\")\n",
    "\n",
    "plt.scatter(train.Age[train.Survived == 0],\n",
    "            train.Fare[train.Survived == 0],\n",
    "            c = \"lightBlue\")\n",
    "\n",
    "plt.xlabel(\"Age\")\n",
    "plt.ylabel(\"Fare\")\n",
    "plt.legend([\"Survived\", \"Not Survived\"]);"
   ]
  },
  {
   "cell_type": "markdown",
   "id": "2fffe2e8",
   "metadata": {
    "papermill": {
     "duration": 0.009025,
     "end_time": "2022-09-29T19:27:02.650212",
     "exception": false,
     "start_time": "2022-09-29T19:27:02.641187",
     "status": "completed"
    },
    "tags": []
   },
   "source": [
    "As it is showed by the plot, the more was the fare the more was the probability to survive."
   ]
  },
  {
   "cell_type": "markdown",
   "id": "642ff585",
   "metadata": {
    "papermill": {
     "duration": 0.009063,
     "end_time": "2022-09-29T19:27:02.668200",
     "exception": false,
     "start_time": "2022-09-29T19:27:02.659137",
     "status": "completed"
    },
    "tags": []
   },
   "source": [
    "## Feature Engineering\n",
    "\n",
    "In this section we look to the features, in particular we will check if there are missing data or categorical variables.\n",
    "\n",
    "If we have missing data we will fill that, and we will encode categorical variables."
   ]
  },
  {
   "cell_type": "markdown",
   "id": "74be3b29",
   "metadata": {
    "papermill": {
     "duration": 0.008928,
     "end_time": "2022-09-29T19:27:02.686865",
     "exception": false,
     "start_time": "2022-09-29T19:27:02.677937",
     "status": "completed"
    },
    "tags": []
   },
   "source": [
    "We start by checking test and train infos to find features with missing values and categorical variables."
   ]
  },
  {
   "cell_type": "markdown",
   "id": "e85c644b",
   "metadata": {
    "papermill": {
     "duration": 0.00895,
     "end_time": "2022-09-29T19:27:02.704823",
     "exception": false,
     "start_time": "2022-09-29T19:27:02.695873",
     "status": "completed"
    },
    "tags": []
   },
   "source": [
    "As we can see, we have some missing values in the two datasets and we have also some categorical variables.\n",
    "\n",
    "Features with missing values are:\n",
    "1. Train set:\n",
    "    * `Age`\n",
    "    * `Embarked`\n",
    "2. Test set:\n",
    "    * `Age`\n",
    "    * `Fare`\n",
    "\n",
    "Features with categorical variables (for both test and train sets) are:\n",
    "* `Sex`\n",
    "* `Embarked`"
   ]
  },
  {
   "cell_type": "markdown",
   "id": "244a6fb1",
   "metadata": {
    "papermill": {
     "duration": 0.008983,
     "end_time": "2022-09-29T19:27:02.722723",
     "exception": false,
     "start_time": "2022-09-29T19:27:02.713740",
     "status": "completed"
    },
    "tags": []
   },
   "source": [
    "### Turn non numerical variables into Pandas Categories\n",
    "We choose this type of approach because this are categorical variables so encoding this way may be more accurate (ex. missing values in category are coded asv -1), without using sklearn tools that may be provide to  data leak."
   ]
  },
  {
   "cell_type": "code",
   "execution_count": 10,
   "id": "b2ce4270",
   "metadata": {
    "execution": {
     "iopub.execute_input": "2022-09-29T19:27:02.743153Z",
     "iopub.status.busy": "2022-09-29T19:27:02.742223Z",
     "iopub.status.idle": "2022-09-29T19:27:02.762587Z",
     "shell.execute_reply": "2022-09-29T19:27:02.760451Z"
    },
    "papermill": {
     "duration": 0.033205,
     "end_time": "2022-09-29T19:27:02.765283",
     "exception": false,
     "start_time": "2022-09-29T19:27:02.732078",
     "status": "completed"
    },
    "tags": []
   },
   "outputs": [
    {
     "name": "stdout",
     "output_type": "stream",
     "text": [
      "<class 'pandas.core.frame.DataFrame'>\n",
      "RangeIndex: 891 entries, 0 to 890\n",
      "Data columns (total 9 columns):\n",
      " #   Column       Non-Null Count  Dtype   \n",
      "---  ------       --------------  -----   \n",
      " 0   PassengerId  891 non-null    int64   \n",
      " 1   Survived     891 non-null    int64   \n",
      " 2   Pclass       891 non-null    int64   \n",
      " 3   Sex          891 non-null    category\n",
      " 4   Age          714 non-null    float64 \n",
      " 5   SibSp        891 non-null    int64   \n",
      " 6   Parch        891 non-null    int64   \n",
      " 7   Fare         891 non-null    float64 \n",
      " 8   Embarked     889 non-null    category\n",
      "dtypes: category(2), float64(2), int64(5)\n",
      "memory usage: 50.8 KB\n"
     ]
    }
   ],
   "source": [
    "for label, content in train.items():\n",
    "    if pd.api.types.is_string_dtype(content):\n",
    "        train[label] = content.astype(\"category\").cat.as_ordered()\n",
    "        \n",
    "train.info()"
   ]
  },
  {
   "cell_type": "markdown",
   "id": "8f5cd82d",
   "metadata": {
    "execution": {
     "iopub.execute_input": "2022-09-19T09:08:54.250720Z",
     "iopub.status.busy": "2022-09-19T09:08:54.250261Z",
     "iopub.status.idle": "2022-09-19T09:08:54.271418Z",
     "shell.execute_reply": "2022-09-19T09:08:54.268966Z",
     "shell.execute_reply.started": "2022-09-19T09:08:54.250689Z"
    },
    "papermill": {
     "duration": 0.009727,
     "end_time": "2022-09-29T19:27:02.784852",
     "exception": false,
     "start_time": "2022-09-29T19:27:02.775125",
     "status": "completed"
    },
    "tags": []
   },
   "source": [
    "## Filling missing values\n",
    "\n",
    "**Filling numerical values**\n",
    "\n",
    "Now we want to fill missing values, but adding some features that give to the machine additional infos, in particular if a value is imputed or not."
   ]
  },
  {
   "cell_type": "code",
   "execution_count": 11,
   "id": "090ef00d",
   "metadata": {
    "execution": {
     "iopub.execute_input": "2022-09-29T19:27:02.804743Z",
     "iopub.status.busy": "2022-09-29T19:27:02.803860Z",
     "iopub.status.idle": "2022-09-29T19:27:02.819095Z",
     "shell.execute_reply": "2022-09-29T19:27:02.817579Z"
    },
    "papermill": {
     "duration": 0.027152,
     "end_time": "2022-09-29T19:27:02.821075",
     "exception": false,
     "start_time": "2022-09-29T19:27:02.793923",
     "status": "completed"
    },
    "tags": []
   },
   "outputs": [
    {
     "name": "stdout",
     "output_type": "stream",
     "text": [
      "<class 'pandas.core.frame.DataFrame'>\n",
      "RangeIndex: 891 entries, 0 to 890\n",
      "Data columns (total 10 columns):\n",
      " #   Column          Non-Null Count  Dtype   \n",
      "---  ------          --------------  -----   \n",
      " 0   PassengerId     891 non-null    int64   \n",
      " 1   Survived        891 non-null    int64   \n",
      " 2   Pclass          891 non-null    int64   \n",
      " 3   Sex             891 non-null    category\n",
      " 4   Age             891 non-null    float64 \n",
      " 5   SibSp           891 non-null    int64   \n",
      " 6   Parch           891 non-null    int64   \n",
      " 7   Fare            891 non-null    float64 \n",
      " 8   Embarked        889 non-null    category\n",
      " 9   Age_is_missing  891 non-null    bool    \n",
      "dtypes: bool(1), category(2), float64(2), int64(5)\n",
      "memory usage: 51.7 KB\n"
     ]
    }
   ],
   "source": [
    "for label, content in train.items():\n",
    "    if pd.api.types.is_numeric_dtype(content):\n",
    "        if pd.isnull(content).sum():\n",
    "            # Add a column that says if the value is missing or not.\n",
    "            train[label + \"_is_missing\"] = pd.isnull(content)\n",
    "            # Fill numerical values with the median\n",
    "            train[label] = content.fillna(content.median())\n",
    "\n",
    "train.info()"
   ]
  },
  {
   "cell_type": "markdown",
   "id": "0221b874",
   "metadata": {
    "execution": {
     "iopub.execute_input": "2022-09-19T09:19:56.175093Z",
     "iopub.status.busy": "2022-09-19T09:19:56.174651Z",
     "iopub.status.idle": "2022-09-19T09:19:56.184241Z",
     "shell.execute_reply": "2022-09-19T09:19:56.182466Z",
     "shell.execute_reply.started": "2022-09-19T09:19:56.175062Z"
    },
    "papermill": {
     "duration": 0.009026,
     "end_time": "2022-09-29T19:27:02.839439",
     "exception": false,
     "start_time": "2022-09-29T19:27:02.830413",
     "status": "completed"
    },
    "tags": []
   },
   "source": [
    "**Filling and converting categorical variables**"
   ]
  },
  {
   "cell_type": "code",
   "execution_count": 12,
   "id": "421a3653",
   "metadata": {
    "execution": {
     "iopub.execute_input": "2022-09-29T19:27:02.859423Z",
     "iopub.status.busy": "2022-09-29T19:27:02.858552Z",
     "iopub.status.idle": "2022-09-29T19:27:02.872778Z",
     "shell.execute_reply": "2022-09-29T19:27:02.871415Z"
    },
    "papermill": {
     "duration": 0.026162,
     "end_time": "2022-09-29T19:27:02.874757",
     "exception": false,
     "start_time": "2022-09-29T19:27:02.848595",
     "status": "completed"
    },
    "tags": []
   },
   "outputs": [
    {
     "name": "stdout",
     "output_type": "stream",
     "text": [
      "<class 'pandas.core.frame.DataFrame'>\n",
      "RangeIndex: 891 entries, 0 to 890\n",
      "Data columns (total 12 columns):\n",
      " #   Column               Non-Null Count  Dtype  \n",
      "---  ------               --------------  -----  \n",
      " 0   PassengerId          891 non-null    int64  \n",
      " 1   Survived             891 non-null    int64  \n",
      " 2   Pclass               891 non-null    int64  \n",
      " 3   Sex                  891 non-null    int8   \n",
      " 4   Age                  891 non-null    float64\n",
      " 5   SibSp                891 non-null    int64  \n",
      " 6   Parch                891 non-null    int64  \n",
      " 7   Fare                 891 non-null    float64\n",
      " 8   Embarked             891 non-null    int8   \n",
      " 9   Age_is_missing       891 non-null    bool   \n",
      " 10  Sex_is_missing       891 non-null    bool   \n",
      " 11  Embarked_is_missing  891 non-null    bool   \n",
      "dtypes: bool(3), float64(2), int64(5), int8(2)\n",
      "memory usage: 53.2 KB\n"
     ]
    }
   ],
   "source": [
    "for label, content in train.items():\n",
    "    if not pd.api.types.is_numeric_dtype(content):\n",
    "        # Add a column if values is missing\n",
    "        train[label + \"_is_missing\"] = pd.isnull(content)\n",
    "        # Change the name of the category with its own code, adding 1\n",
    "        train[label] = pd.Categorical(content).codes + 1\n",
    "\n",
    "train.info()"
   ]
  },
  {
   "cell_type": "markdown",
   "id": "b4a6c075",
   "metadata": {
    "papermill": {
     "duration": 0.009058,
     "end_time": "2022-09-29T19:27:02.893925",
     "exception": false,
     "start_time": "2022-09-29T19:27:02.884867",
     "status": "completed"
    },
    "tags": []
   },
   "source": [
    "Now our train data set is filled and all numeric. We can move on choosing a model and train it."
   ]
  },
  {
   "cell_type": "markdown",
   "id": "a6672a1c",
   "metadata": {
    "papermill": {
     "duration": 0.015549,
     "end_time": "2022-09-29T19:27:02.919367",
     "exception": false,
     "start_time": "2022-09-29T19:27:02.903818",
     "status": "completed"
    },
    "tags": []
   },
   "source": [
    "## Modelling\n",
    "\n",
    "Kaggle doesn't provide a validation set so first of all we split our training data in a validation and a train set, to validate our model.\n",
    "\n",
    "We'll tray to use these model:\n",
    "* `LogisticRegression`\n",
    "* `DecisionTree`\n",
    "* `RandomForestClassifier`\n",
    "* `KNeighbours`\n",
    "\n",
    "First we choose our X (features) and y (labels)."
   ]
  },
  {
   "cell_type": "code",
   "execution_count": 13,
   "id": "20d35b70",
   "metadata": {
    "execution": {
     "iopub.execute_input": "2022-09-29T19:27:02.965775Z",
     "iopub.status.busy": "2022-09-29T19:27:02.964995Z",
     "iopub.status.idle": "2022-09-29T19:27:02.977873Z",
     "shell.execute_reply": "2022-09-29T19:27:02.976837Z"
    },
    "papermill": {
     "duration": 0.041876,
     "end_time": "2022-09-29T19:27:02.980665",
     "exception": false,
     "start_time": "2022-09-29T19:27:02.938789",
     "status": "completed"
    },
    "tags": []
   },
   "outputs": [],
   "source": [
    "# Creating X and y\n",
    "X = train.drop(\"Survived\", axis = 1)\n",
    "y = train[\"Survived\"]\n"
   ]
  },
  {
   "cell_type": "code",
   "execution_count": 14,
   "id": "b1daabf4",
   "metadata": {
    "execution": {
     "iopub.execute_input": "2022-09-29T19:27:03.024756Z",
     "iopub.status.busy": "2022-09-29T19:27:03.024254Z",
     "iopub.status.idle": "2022-09-29T19:27:03.204559Z",
     "shell.execute_reply": "2022-09-29T19:27:03.203607Z"
    },
    "papermill": {
     "duration": 0.204813,
     "end_time": "2022-09-29T19:27:03.208276",
     "exception": false,
     "start_time": "2022-09-29T19:27:03.003463",
     "status": "completed"
    },
    "tags": []
   },
   "outputs": [],
   "source": [
    "# Setup Random Seed\n",
    "np.random.seed(42)\n",
    "\n",
    "# Split the data in training and validation set\n",
    "from sklearn.model_selection import train_test_split\n",
    "X_train, X_val, y_train, y_val = train_test_split(X, y, test_size = 0.2)\n",
    "\n",
    "\n",
    "# Scaling the features to avoid faliure in models.\n",
    "from sklearn.preprocessing import StandardScaler\n",
    "scaler = StandardScaler()\n",
    "X_train_std = scaler.fit_transform(X_train)\n",
    "X_val_std = scaler.transform(X_val)"
   ]
  },
  {
   "cell_type": "code",
   "execution_count": 15,
   "id": "cea9a49f",
   "metadata": {
    "execution": {
     "iopub.execute_input": "2022-09-29T19:27:03.240343Z",
     "iopub.status.busy": "2022-09-29T19:27:03.239905Z",
     "iopub.status.idle": "2022-09-29T19:27:03.423087Z",
     "shell.execute_reply": "2022-09-29T19:27:03.421724Z"
    },
    "papermill": {
     "duration": 0.201422,
     "end_time": "2022-09-29T19:27:03.425453",
     "exception": false,
     "start_time": "2022-09-29T19:27:03.224031",
     "status": "completed"
    },
    "tags": []
   },
   "outputs": [],
   "source": [
    "# Import the model we want\n",
    "from sklearn.linear_model import LogisticRegression\n",
    "from sklearn.tree import DecisionTreeClassifier\n",
    "from sklearn.ensemble import RandomForestClassifier\n",
    "from sklearn.neighbors import KNeighborsClassifier\n",
    "\n",
    "# Define a function to fit and score our model\n",
    "def fit_and_score(models, X_train, X_val,\n",
    "                  y_train, y_val):\n",
    "    # Setup random seed to have repplicable results\n",
    "    np.random.seed(42)\n",
    "    # Empty dictionary to memorize our scores\n",
    "    scores = {}\n",
    "    # Looping over the methods\n",
    "    for name, model in models.items():\n",
    "        # Define the model\n",
    "        clf = model\n",
    "        # Fit the model to train data\n",
    "        clf.fit(X_train, y_train)\n",
    "        # Scoring our model\n",
    "        scores[name] = clf.score(X_val, y_val)\n",
    "    \n",
    "    return scores"
   ]
  },
  {
   "cell_type": "code",
   "execution_count": 16,
   "id": "e9f23b4f",
   "metadata": {
    "execution": {
     "iopub.execute_input": "2022-09-29T19:27:03.446806Z",
     "iopub.status.busy": "2022-09-29T19:27:03.445319Z",
     "iopub.status.idle": "2022-09-29T19:27:03.450438Z",
     "shell.execute_reply": "2022-09-29T19:27:03.449582Z"
    },
    "papermill": {
     "duration": 0.0173,
     "end_time": "2022-09-29T19:27:03.452397",
     "exception": false,
     "start_time": "2022-09-29T19:27:03.435097",
     "status": "completed"
    },
    "tags": []
   },
   "outputs": [],
   "source": [
    "# Creating a model dictionary to test the baseline models.\n",
    "model_dict = {\"Logistic Regression\": LogisticRegression(),\n",
    "              \"Decision Tree\": DecisionTreeClassifier(),\n",
    "              \"Random Forest\": RandomForestClassifier(),\n",
    "              \"KNN\": KNeighborsClassifier()}"
   ]
  },
  {
   "cell_type": "code",
   "execution_count": 17,
   "id": "7670611f",
   "metadata": {
    "execution": {
     "iopub.execute_input": "2022-09-29T19:27:03.472565Z",
     "iopub.status.busy": "2022-09-29T19:27:03.471711Z",
     "iopub.status.idle": "2022-09-29T19:27:03.893376Z",
     "shell.execute_reply": "2022-09-29T19:27:03.892441Z"
    },
    "papermill": {
     "duration": 0.433868,
     "end_time": "2022-09-29T19:27:03.895539",
     "exception": false,
     "start_time": "2022-09-29T19:27:03.461671",
     "status": "completed"
    },
    "tags": []
   },
   "outputs": [
    {
     "data": {
      "text/plain": [
       "(<AxesSubplot:>,\n",
       "           Logistic Regression  Decision Tree  Random Forest       KNN\n",
       " accuracy             0.815642       0.776536       0.826816  0.810056)"
      ]
     },
     "execution_count": 17,
     "metadata": {},
     "output_type": "execute_result"
    },
    {
     "data": {
      "image/png": "[encoded data removed]",
      "text/plain": [
       "<Figure size 432x288 with 1 Axes>"
      ]
     },
     "metadata": {
      "needs_background": "light"
     },
     "output_type": "display_data"
    }
   ],
   "source": [
    "# Scoring the models to choose the one that we want to tune.\n",
    "model_scores = fit_and_score(models = model_dict,\n",
    "                             X_train = X_train_std, X_val = X_val_std, \n",
    "                             y_train = y_train, y_val = y_val)\n",
    "\n",
    "# Visualizing the scores of models we choose\n",
    "models_compare = pd.DataFrame(model_scores, index = [\"accuracy\"])\n",
    "models_compare.T.plot.bar(), models_compare"
   ]
  },
  {
   "cell_type": "markdown",
   "id": "7b7b81f7",
   "metadata": {
    "papermill": {
     "duration": 0.009765,
     "end_time": "2022-09-29T19:27:03.915106",
     "exception": false,
     "start_time": "2022-09-29T19:27:03.905341",
     "status": "completed"
    },
    "tags": []
   },
   "source": [
    "As we can see `RandomForestClassifier()` perform better on this data set and we can pick this model to perform a deeply **Model Driven EDA** and submit predictions to kaggle.\n",
    "\n",
    "Now we can tray to tune `RandomForest` to improve our scores.\n",
    "\n",
    "We will use `RandomizedSearchCV` to tune this hyper parameters:\n",
    "* n_estimators\n",
    "* max_depth\n",
    "* min_samples_split\n",
    "* min_samples_leaf\n",
    "\n",
    "To standardize features we need to create a pipeline."
   ]
  },
  {
   "cell_type": "code",
   "execution_count": 18,
   "id": "5f0b2d2e",
   "metadata": {
    "execution": {
     "iopub.execute_input": "2022-09-29T19:27:03.936107Z",
     "iopub.status.busy": "2022-09-29T19:27:03.935297Z",
     "iopub.status.idle": "2022-09-29T19:27:18.551235Z",
     "shell.execute_reply": "2022-09-29T19:27:18.550139Z"
    },
    "papermill": {
     "duration": 14.628789,
     "end_time": "2022-09-29T19:27:18.553427",
     "exception": false,
     "start_time": "2022-09-29T19:27:03.924638",
     "status": "completed"
    },
    "tags": []
   },
   "outputs": [
    {
     "name": "stdout",
     "output_type": "stream",
     "text": [
      "Fitting 5 folds for each of 5 candidates, totalling 25 fits\n"
     ]
    },
    {
     "data": {
      "text/plain": [
       "0.8156424581005587"
      ]
     },
     "execution_count": 18,
     "metadata": {},
     "output_type": "execute_result"
    }
   ],
   "source": [
    "from sklearn.model_selection import RandomizedSearchCV\n",
    "from sklearn.pipeline import Pipeline\n",
    "my_pipe = Pipeline([(\"scaler\", StandardScaler()),\n",
    "                     (\"clf\", RandomForestClassifier())])\n",
    "\n",
    "\n",
    "# Create a parameters dictionary\n",
    "param_dict = {\"clf__n_estimators\": range(50, 1000, 10),\n",
    "              \"clf__max_depth\": range(10, 200, 10),\n",
    "              \"clf__min_samples_split\": [2, 5, 10],\n",
    "              \"clf__min_samples_leaf\": [1, 2, 4]}\n",
    "# Setup random seed\n",
    "np.random.seed(42)\n",
    "\n",
    "# RSCV on RandomForest\n",
    "rs_rf = RandomizedSearchCV(estimator = my_pipe,\n",
    "                           param_distributions = param_dict,\n",
    "                           n_jobs = -1,\n",
    "                           n_iter = 5,\n",
    "                           cv = 5,\n",
    "                           verbose = True)\n",
    "\n",
    "rs_rf.fit(X_train,y_train)\n",
    "rs_rf.score(X_val, y_val)\n"
   ]
  },
  {
   "cell_type": "markdown",
   "id": "729f2dc2",
   "metadata": {
    "execution": {
     "iopub.execute_input": "2022-09-20T10:45:33.857033Z",
     "iopub.status.busy": "2022-09-20T10:45:33.856643Z",
     "iopub.status.idle": "2022-09-20T10:45:33.884983Z",
     "shell.execute_reply": "2022-09-20T10:45:33.882827Z",
     "shell.execute_reply.started": "2022-09-20T10:45:33.856956Z"
    },
    "papermill": {
     "duration": 0.009399,
     "end_time": "2022-09-29T19:27:18.573349",
     "exception": false,
     "start_time": "2022-09-29T19:27:18.563950",
     "status": "completed"
    },
    "tags": []
   },
   "source": [
    "We don't see emprovement with RSCV. \n",
    "\n",
    "Maybe further investigations over data and model is required."
   ]
  },
  {
   "cell_type": "markdown",
   "id": "7cb62ea9",
   "metadata": {
    "papermill": {
     "duration": 0.009796,
     "end_time": "2022-09-29T19:27:18.592694",
     "exception": false,
     "start_time": "2022-09-29T19:27:18.582898",
     "status": "completed"
    },
    "tags": []
   },
   "source": [
    "## Making prediction with our trained model\n",
    "\n",
    "Now we focus on making predictions with our model.\n",
    "\n",
    "To to this we need to preprocess test data like we did with our test data."
   ]
  },
  {
   "cell_type": "code",
   "execution_count": 19,
   "id": "143b0ce1",
   "metadata": {
    "execution": {
     "iopub.execute_input": "2022-09-29T19:27:18.613704Z",
     "iopub.status.busy": "2022-09-29T19:27:18.612950Z",
     "iopub.status.idle": "2022-09-29T19:27:18.630083Z",
     "shell.execute_reply": "2022-09-29T19:27:18.628993Z"
    },
    "papermill": {
     "duration": 0.031311,
     "end_time": "2022-09-29T19:27:18.633465",
     "exception": false,
     "start_time": "2022-09-29T19:27:18.602154",
     "status": "completed"
    },
    "tags": []
   },
   "outputs": [
    {
     "name": "stdout",
     "output_type": "stream",
     "text": [
      "<class 'pandas.core.frame.DataFrame'>\n",
      "RangeIndex: 418 entries, 0 to 417\n",
      "Data columns (total 8 columns):\n",
      " #   Column       Non-Null Count  Dtype   \n",
      "---  ------       --------------  -----   \n",
      " 0   PassengerId  418 non-null    int64   \n",
      " 1   Pclass       418 non-null    int64   \n",
      " 2   Sex          418 non-null    category\n",
      " 3   Age          332 non-null    float64 \n",
      " 4   SibSp        418 non-null    int64   \n",
      " 5   Parch        418 non-null    int64   \n",
      " 6   Fare         417 non-null    float64 \n",
      " 7   Embarked     418 non-null    category\n",
      "dtypes: category(2), float64(2), int64(4)\n",
      "memory usage: 20.8 KB\n"
     ]
    }
   ],
   "source": [
    "# Changing type to all non numerical values\n",
    "for label, content in test.items():\n",
    "    if pd.api.types.is_string_dtype(content):\n",
    "        test[label] = content.astype(\"category\").cat.as_ordered()\n",
    "        \n",
    "test.info()"
   ]
  },
  {
   "cell_type": "code",
   "execution_count": 20,
   "id": "f4d34ac4",
   "metadata": {
    "execution": {
     "iopub.execute_input": "2022-09-29T19:27:18.656251Z",
     "iopub.status.busy": "2022-09-29T19:27:18.655976Z",
     "iopub.status.idle": "2022-09-29T19:27:18.672164Z",
     "shell.execute_reply": "2022-09-29T19:27:18.670157Z"
    },
    "papermill": {
     "duration": 0.029319,
     "end_time": "2022-09-29T19:27:18.674259",
     "exception": false,
     "start_time": "2022-09-29T19:27:18.644940",
     "status": "completed"
    },
    "tags": []
   },
   "outputs": [
    {
     "name": "stdout",
     "output_type": "stream",
     "text": [
      "<class 'pandas.core.frame.DataFrame'>\n",
      "RangeIndex: 418 entries, 0 to 417\n",
      "Data columns (total 10 columns):\n",
      " #   Column           Non-Null Count  Dtype   \n",
      "---  ------           --------------  -----   \n",
      " 0   PassengerId      418 non-null    int64   \n",
      " 1   Pclass           418 non-null    int64   \n",
      " 2   Sex              418 non-null    category\n",
      " 3   Age              418 non-null    float64 \n",
      " 4   SibSp            418 non-null    int64   \n",
      " 5   Parch            418 non-null    int64   \n",
      " 6   Fare             418 non-null    float64 \n",
      " 7   Embarked         418 non-null    category\n",
      " 8   Age_is_missing   418 non-null    bool    \n",
      " 9   Fare_is_missing  418 non-null    bool    \n",
      "dtypes: bool(2), category(2), float64(2), int64(4)\n",
      "memory usage: 21.6 KB\n"
     ]
    }
   ],
   "source": [
    "for label, content in test.items():\n",
    "    if pd.api.types.is_numeric_dtype(content):\n",
    "        if pd.isnull(content).sum():\n",
    "            # Add a column that says if the value is missing or not.\n",
    "            test[label + \"_is_missing\"] = pd.isnull(content)\n",
    "            # Fill numerical values with the median\n",
    "            test[label] = content.fillna(content.median())\n",
    "\n",
    "test.info()"
   ]
  },
  {
   "cell_type": "code",
   "execution_count": 21,
   "id": "66430fa1",
   "metadata": {
    "execution": {
     "iopub.execute_input": "2022-09-29T19:27:18.699308Z",
     "iopub.status.busy": "2022-09-29T19:27:18.698402Z",
     "iopub.status.idle": "2022-09-29T19:27:18.715153Z",
     "shell.execute_reply": "2022-09-29T19:27:18.714096Z"
    },
    "papermill": {
     "duration": 0.030755,
     "end_time": "2022-09-29T19:27:18.717030",
     "exception": false,
     "start_time": "2022-09-29T19:27:18.686275",
     "status": "completed"
    },
    "tags": []
   },
   "outputs": [
    {
     "name": "stdout",
     "output_type": "stream",
     "text": [
      "<class 'pandas.core.frame.DataFrame'>\n",
      "RangeIndex: 418 entries, 0 to 417\n",
      "Data columns (total 12 columns):\n",
      " #   Column               Non-Null Count  Dtype  \n",
      "---  ------               --------------  -----  \n",
      " 0   PassengerId          418 non-null    int64  \n",
      " 1   Pclass               418 non-null    int64  \n",
      " 2   Sex                  418 non-null    int8   \n",
      " 3   Age                  418 non-null    float64\n",
      " 4   SibSp                418 non-null    int64  \n",
      " 5   Parch                418 non-null    int64  \n",
      " 6   Fare                 418 non-null    float64\n",
      " 7   Embarked             418 non-null    int8   \n",
      " 8   Age_is_missing       418 non-null    bool   \n",
      " 9   Fare_is_missing      418 non-null    bool   \n",
      " 10  Sex_is_missing       418 non-null    bool   \n",
      " 11  Embarked_is_missing  418 non-null    bool   \n",
      "dtypes: bool(4), float64(2), int64(4), int8(2)\n",
      "memory usage: 22.2 KB\n"
     ]
    },
    {
     "data": {
      "text/plain": [
       "(None,\n",
       " Index(['PassengerId', 'Survived', 'Pclass', 'Sex', 'Age', 'SibSp', 'Parch',\n",
       "        'Fare', 'Embarked', 'Age_is_missing', 'Sex_is_missing',\n",
       "        'Embarked_is_missing'],\n",
       "       dtype='object'))"
      ]
     },
     "execution_count": 21,
     "metadata": {},
     "output_type": "execute_result"
    }
   ],
   "source": [
    "for label, content in test.items():\n",
    "    if not pd.api.types.is_numeric_dtype(content):\n",
    "        # Add a column if values is missing\n",
    "        test[label + \"_is_missing\"] = pd.isnull(content)\n",
    "        # Change the name of the category with its own code, adding 1\n",
    "        test[label] = pd.Categorical(content).codes + 1\n",
    "\n",
    "test.info(), train.columns"
   ]
  },
  {
   "cell_type": "code",
   "execution_count": 22,
   "id": "45b38830",
   "metadata": {
    "execution": {
     "iopub.execute_input": "2022-09-29T19:27:18.738987Z",
     "iopub.status.busy": "2022-09-29T19:27:18.738098Z",
     "iopub.status.idle": "2022-09-29T19:27:18.750983Z",
     "shell.execute_reply": "2022-09-29T19:27:18.749369Z"
    },
    "papermill": {
     "duration": 0.025969,
     "end_time": "2022-09-29T19:27:18.753289",
     "exception": false,
     "start_time": "2022-09-29T19:27:18.727320",
     "status": "completed"
    },
    "tags": []
   },
   "outputs": [
    {
     "name": "stdout",
     "output_type": "stream",
     "text": [
      "<class 'pandas.core.frame.DataFrame'>\n",
      "RangeIndex: 891 entries, 0 to 890\n",
      "Data columns (total 12 columns):\n",
      " #   Column               Non-Null Count  Dtype  \n",
      "---  ------               --------------  -----  \n",
      " 0   PassengerId          891 non-null    int64  \n",
      " 1   Pclass               891 non-null    int64  \n",
      " 2   Sex                  891 non-null    int8   \n",
      " 3   Age                  891 non-null    float64\n",
      " 4   SibSp                891 non-null    int64  \n",
      " 5   Parch                891 non-null    int64  \n",
      " 6   Fare                 891 non-null    float64\n",
      " 7   Embarked             891 non-null    int8   \n",
      " 8   Age_is_missing       891 non-null    bool   \n",
      " 9   Fare_is_missing      891 non-null    int64  \n",
      " 10  Sex_is_missing       891 non-null    bool   \n",
      " 11  Embarked_is_missing  891 non-null    bool   \n",
      "dtypes: bool(3), float64(2), int64(5), int8(2)\n",
      "memory usage: 53.2 KB\n"
     ]
    }
   ],
   "source": [
    "y = train[\"Survived\"]\n",
    "train[\"Fare_is_missing\"] = 0\n",
    "col = list(test.columns.values)\n",
    "train = train[col]\n",
    "train.info()"
   ]
  },
  {
   "cell_type": "markdown",
   "id": "54716e90",
   "metadata": {
    "papermill": {
     "duration": 0.010659,
     "end_time": "2022-09-29T19:27:18.774784",
     "exception": false,
     "start_time": "2022-09-29T19:27:18.764125",
     "status": "completed"
    },
    "tags": []
   },
   "source": [
    "Now our data set has the same format.\n",
    "\n",
    "Let's train our `RandomForestClassifier()`, over all train data, and then make prediction."
   ]
  },
  {
   "cell_type": "code",
   "execution_count": 23,
   "id": "c782a9a6",
   "metadata": {
    "execution": {
     "iopub.execute_input": "2022-09-29T19:27:18.796378Z",
     "iopub.status.busy": "2022-09-29T19:27:18.795545Z",
     "iopub.status.idle": "2022-09-29T19:27:19.002183Z",
     "shell.execute_reply": "2022-09-29T19:27:19.001274Z"
    },
    "papermill": {
     "duration": 0.219768,
     "end_time": "2022-09-29T19:27:19.004501",
     "exception": false,
     "start_time": "2022-09-29T19:27:18.784733",
     "status": "completed"
    },
    "tags": []
   },
   "outputs": [],
   "source": [
    "clf_top = RandomForestClassifier(random_state = 42)\n",
    "clf_top.fit(train, y)\n",
    "predictions = clf_top.predict(test)"
   ]
  },
  {
   "cell_type": "code",
   "execution_count": 24,
   "id": "35685eb9",
   "metadata": {
    "execution": {
     "iopub.execute_input": "2022-09-29T19:27:19.026045Z",
     "iopub.status.busy": "2022-09-29T19:27:19.025755Z",
     "iopub.status.idle": "2022-09-29T19:27:19.034559Z",
     "shell.execute_reply": "2022-09-29T19:27:19.033755Z"
    },
    "papermill": {
     "duration": 0.021619,
     "end_time": "2022-09-29T19:27:19.036461",
     "exception": false,
     "start_time": "2022-09-29T19:27:19.014842",
     "status": "completed"
    },
    "tags": []
   },
   "outputs": [],
   "source": [
    "# Create a submission file for Kaggle competition\n",
    "pred = {\"passengerID\": test.PassengerId,\n",
    "        \"Survived\": predictions}\n",
    "\n",
    "pred_df = pd.DataFrame(pred)\n",
    "submissions = pred_df.to_csv(\"submissions.csv\", index = False)"
   ]
  },
  {
   "cell_type": "code",
   "execution_count": null,
   "id": "9fc118ed",
   "metadata": {
    "papermill": {
     "duration": 0.009842,
     "end_time": "2022-09-29T19:27:19.056895",
     "exception": false,
     "start_time": "2022-09-29T19:27:19.047053",
     "status": "completed"
    },
    "tags": []
   },
   "outputs": [],
   "source": []
  }
 ],
 "metadata": {
  "kernelspec": {
   "display_name": "Python 3",
   "language": "python",
   "name": "python3"
  },
  "language_info": {
   "codemirror_mode": {
    "name": "ipython",
    "version": 3
   },
   "file_extension": ".py",
   "mimetype": "text/x-python",
   "name": "python",
   "nbconvert_exporter": "python",
   "pygments_lexer": "ipython3",
   "version": "3.7.12"
  },
  "papermill": {
   "default_parameters": {},
   "duration": 29.341168,
   "end_time": "2022-09-29T19:27:21.686282",
   "environment_variables": {},
   "exception": null,
   "input_path": "__notebook__.ipynb",
   "output_path": "__notebook__.ipynb",
   "parameters": {},
   "start_time": "2022-09-29T19:26:52.345114",
   "version": "2.3.4"
  }
 },
 "nbformat": 4,
 "nbformat_minor": 5
}
